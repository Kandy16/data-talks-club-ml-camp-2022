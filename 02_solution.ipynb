{
 "cells": [
  {
   "cell_type": "code",
   "execution_count": 77,
   "id": "681ff6a5",
   "metadata": {},
   "outputs": [],
   "source": [
    "import numpy as np\n",
    "import pandas as pd\n",
    "\n",
    "import matplotlib.pyplot as plt\n",
    "import seaborn as sns\n",
    "\n",
    "%matplotlib inline"
   ]
  },
  {
   "cell_type": "code",
   "execution_count": 78,
   "id": "526f67bc",
   "metadata": {},
   "outputs": [
    {
     "data": {
      "text/html": [
       "<div>\n",
       "<style scoped>\n",
       "    .dataframe tbody tr th:only-of-type {\n",
       "        vertical-align: middle;\n",
       "    }\n",
       "\n",
       "    .dataframe tbody tr th {\n",
       "        vertical-align: top;\n",
       "    }\n",
       "\n",
       "    .dataframe thead th {\n",
       "        text-align: right;\n",
       "    }\n",
       "</style>\n",
       "<table border=\"1\" class=\"dataframe\">\n",
       "  <thead>\n",
       "    <tr style=\"text-align: right;\">\n",
       "      <th></th>\n",
       "      <th>longitude</th>\n",
       "      <th>latitude</th>\n",
       "      <th>housing_median_age</th>\n",
       "      <th>total_rooms</th>\n",
       "      <th>total_bedrooms</th>\n",
       "      <th>population</th>\n",
       "      <th>households</th>\n",
       "      <th>median_income</th>\n",
       "      <th>median_house_value</th>\n",
       "      <th>ocean_proximity</th>\n",
       "    </tr>\n",
       "  </thead>\n",
       "  <tbody>\n",
       "    <tr>\n",
       "      <th>0</th>\n",
       "      <td>-122.23</td>\n",
       "      <td>37.88</td>\n",
       "      <td>41</td>\n",
       "      <td>880</td>\n",
       "      <td>129.0</td>\n",
       "      <td>322</td>\n",
       "      <td>126</td>\n",
       "      <td>8.3252</td>\n",
       "      <td>452600</td>\n",
       "      <td>NEAR BAY</td>\n",
       "    </tr>\n",
       "    <tr>\n",
       "      <th>1</th>\n",
       "      <td>-122.22</td>\n",
       "      <td>37.86</td>\n",
       "      <td>21</td>\n",
       "      <td>7099</td>\n",
       "      <td>1106.0</td>\n",
       "      <td>2401</td>\n",
       "      <td>1138</td>\n",
       "      <td>8.3014</td>\n",
       "      <td>358500</td>\n",
       "      <td>NEAR BAY</td>\n",
       "    </tr>\n",
       "    <tr>\n",
       "      <th>2</th>\n",
       "      <td>-122.24</td>\n",
       "      <td>37.85</td>\n",
       "      <td>52</td>\n",
       "      <td>1467</td>\n",
       "      <td>190.0</td>\n",
       "      <td>496</td>\n",
       "      <td>177</td>\n",
       "      <td>7.2574</td>\n",
       "      <td>352100</td>\n",
       "      <td>NEAR BAY</td>\n",
       "    </tr>\n",
       "    <tr>\n",
       "      <th>3</th>\n",
       "      <td>-122.25</td>\n",
       "      <td>37.85</td>\n",
       "      <td>52</td>\n",
       "      <td>1274</td>\n",
       "      <td>235.0</td>\n",
       "      <td>558</td>\n",
       "      <td>219</td>\n",
       "      <td>5.6431</td>\n",
       "      <td>341300</td>\n",
       "      <td>NEAR BAY</td>\n",
       "    </tr>\n",
       "    <tr>\n",
       "      <th>4</th>\n",
       "      <td>-122.25</td>\n",
       "      <td>37.85</td>\n",
       "      <td>52</td>\n",
       "      <td>1627</td>\n",
       "      <td>280.0</td>\n",
       "      <td>565</td>\n",
       "      <td>259</td>\n",
       "      <td>3.8462</td>\n",
       "      <td>342200</td>\n",
       "      <td>NEAR BAY</td>\n",
       "    </tr>\n",
       "  </tbody>\n",
       "</table>\n",
       "</div>"
      ],
      "text/plain": [
       "   longitude  latitude  housing_median_age  total_rooms  total_bedrooms  \\\n",
       "0    -122.23     37.88                  41          880           129.0   \n",
       "1    -122.22     37.86                  21         7099          1106.0   \n",
       "2    -122.24     37.85                  52         1467           190.0   \n",
       "3    -122.25     37.85                  52         1274           235.0   \n",
       "4    -122.25     37.85                  52         1627           280.0   \n",
       "\n",
       "   population  households  median_income  median_house_value ocean_proximity  \n",
       "0         322         126         8.3252              452600        NEAR BAY  \n",
       "1        2401        1138         8.3014              358500        NEAR BAY  \n",
       "2         496         177         7.2574              352100        NEAR BAY  \n",
       "3         558         219         5.6431              341300        NEAR BAY  \n",
       "4         565         259         3.8462              342200        NEAR BAY  "
      ]
     },
     "execution_count": 78,
     "metadata": {},
     "output_type": "execute_result"
    }
   ],
   "source": [
    "data = pd.read_csv('02_housing.csv', header=0)\n",
    "data.head(5)"
   ]
  },
  {
   "cell_type": "code",
   "execution_count": 79,
   "id": "a5a6ecc2",
   "metadata": {},
   "outputs": [
    {
     "name": "stdout",
     "output_type": "stream",
     "text": [
      "(20640, 10)\n"
     ]
    },
    {
     "data": {
      "text/html": [
       "<div>\n",
       "<style scoped>\n",
       "    .dataframe tbody tr th:only-of-type {\n",
       "        vertical-align: middle;\n",
       "    }\n",
       "\n",
       "    .dataframe tbody tr th {\n",
       "        vertical-align: top;\n",
       "    }\n",
       "\n",
       "    .dataframe thead th {\n",
       "        text-align: right;\n",
       "    }\n",
       "</style>\n",
       "<table border=\"1\" class=\"dataframe\">\n",
       "  <thead>\n",
       "    <tr style=\"text-align: right;\">\n",
       "      <th></th>\n",
       "      <th>longitude</th>\n",
       "      <th>latitude</th>\n",
       "      <th>housing_median_age</th>\n",
       "      <th>total_rooms</th>\n",
       "      <th>total_bedrooms</th>\n",
       "      <th>population</th>\n",
       "      <th>households</th>\n",
       "      <th>median_income</th>\n",
       "      <th>median_house_value</th>\n",
       "    </tr>\n",
       "  </thead>\n",
       "  <tbody>\n",
       "    <tr>\n",
       "      <th>count</th>\n",
       "      <td>20640.000000</td>\n",
       "      <td>20640.000000</td>\n",
       "      <td>20640.000000</td>\n",
       "      <td>20640.000000</td>\n",
       "      <td>20433.000000</td>\n",
       "      <td>20640.000000</td>\n",
       "      <td>20640.000000</td>\n",
       "      <td>20640.000000</td>\n",
       "      <td>20640.000000</td>\n",
       "    </tr>\n",
       "    <tr>\n",
       "      <th>mean</th>\n",
       "      <td>-119.569704</td>\n",
       "      <td>35.631861</td>\n",
       "      <td>28.639486</td>\n",
       "      <td>2635.763081</td>\n",
       "      <td>537.870553</td>\n",
       "      <td>1425.476744</td>\n",
       "      <td>499.539680</td>\n",
       "      <td>3.870671</td>\n",
       "      <td>206855.816909</td>\n",
       "    </tr>\n",
       "    <tr>\n",
       "      <th>std</th>\n",
       "      <td>2.003532</td>\n",
       "      <td>2.135952</td>\n",
       "      <td>12.585558</td>\n",
       "      <td>2181.615252</td>\n",
       "      <td>421.385070</td>\n",
       "      <td>1132.462122</td>\n",
       "      <td>382.329753</td>\n",
       "      <td>1.899822</td>\n",
       "      <td>115395.615874</td>\n",
       "    </tr>\n",
       "    <tr>\n",
       "      <th>min</th>\n",
       "      <td>-124.350000</td>\n",
       "      <td>32.540000</td>\n",
       "      <td>1.000000</td>\n",
       "      <td>2.000000</td>\n",
       "      <td>1.000000</td>\n",
       "      <td>3.000000</td>\n",
       "      <td>1.000000</td>\n",
       "      <td>0.499900</td>\n",
       "      <td>14999.000000</td>\n",
       "    </tr>\n",
       "    <tr>\n",
       "      <th>25%</th>\n",
       "      <td>-121.800000</td>\n",
       "      <td>33.930000</td>\n",
       "      <td>18.000000</td>\n",
       "      <td>1447.750000</td>\n",
       "      <td>296.000000</td>\n",
       "      <td>787.000000</td>\n",
       "      <td>280.000000</td>\n",
       "      <td>2.563400</td>\n",
       "      <td>119600.000000</td>\n",
       "    </tr>\n",
       "    <tr>\n",
       "      <th>50%</th>\n",
       "      <td>-118.490000</td>\n",
       "      <td>34.260000</td>\n",
       "      <td>29.000000</td>\n",
       "      <td>2127.000000</td>\n",
       "      <td>435.000000</td>\n",
       "      <td>1166.000000</td>\n",
       "      <td>409.000000</td>\n",
       "      <td>3.534800</td>\n",
       "      <td>179700.000000</td>\n",
       "    </tr>\n",
       "    <tr>\n",
       "      <th>75%</th>\n",
       "      <td>-118.010000</td>\n",
       "      <td>37.710000</td>\n",
       "      <td>37.000000</td>\n",
       "      <td>3148.000000</td>\n",
       "      <td>647.000000</td>\n",
       "      <td>1725.000000</td>\n",
       "      <td>605.000000</td>\n",
       "      <td>4.743250</td>\n",
       "      <td>264725.000000</td>\n",
       "    </tr>\n",
       "    <tr>\n",
       "      <th>max</th>\n",
       "      <td>-114.310000</td>\n",
       "      <td>41.950000</td>\n",
       "      <td>52.000000</td>\n",
       "      <td>39320.000000</td>\n",
       "      <td>6445.000000</td>\n",
       "      <td>35682.000000</td>\n",
       "      <td>6082.000000</td>\n",
       "      <td>15.000100</td>\n",
       "      <td>500001.000000</td>\n",
       "    </tr>\n",
       "  </tbody>\n",
       "</table>\n",
       "</div>"
      ],
      "text/plain": [
       "          longitude      latitude  housing_median_age   total_rooms  \\\n",
       "count  20640.000000  20640.000000        20640.000000  20640.000000   \n",
       "mean    -119.569704     35.631861           28.639486   2635.763081   \n",
       "std        2.003532      2.135952           12.585558   2181.615252   \n",
       "min     -124.350000     32.540000            1.000000      2.000000   \n",
       "25%     -121.800000     33.930000           18.000000   1447.750000   \n",
       "50%     -118.490000     34.260000           29.000000   2127.000000   \n",
       "75%     -118.010000     37.710000           37.000000   3148.000000   \n",
       "max     -114.310000     41.950000           52.000000  39320.000000   \n",
       "\n",
       "       total_bedrooms    population    households  median_income  \\\n",
       "count    20433.000000  20640.000000  20640.000000   20640.000000   \n",
       "mean       537.870553   1425.476744    499.539680       3.870671   \n",
       "std        421.385070   1132.462122    382.329753       1.899822   \n",
       "min          1.000000      3.000000      1.000000       0.499900   \n",
       "25%        296.000000    787.000000    280.000000       2.563400   \n",
       "50%        435.000000   1166.000000    409.000000       3.534800   \n",
       "75%        647.000000   1725.000000    605.000000       4.743250   \n",
       "max       6445.000000  35682.000000   6082.000000      15.000100   \n",
       "\n",
       "       median_house_value  \n",
       "count        20640.000000  \n",
       "mean        206855.816909  \n",
       "std         115395.615874  \n",
       "min          14999.000000  \n",
       "25%         119600.000000  \n",
       "50%         179700.000000  \n",
       "75%         264725.000000  \n",
       "max         500001.000000  "
      ]
     },
     "execution_count": 79,
     "metadata": {},
     "output_type": "execute_result"
    }
   ],
   "source": [
    "print(data.shape)\n",
    "data.describe()"
   ]
  },
  {
   "cell_type": "markdown",
   "id": "ef3096c3",
   "metadata": {},
   "source": [
    "# Exploratory data analysis"
   ]
  },
  {
   "cell_type": "code",
   "execution_count": 80,
   "id": "a84b0e49",
   "metadata": {},
   "outputs": [
    {
     "data": {
      "text/plain": [
       "<AxesSubplot: xlabel='median_house_value', ylabel='Count'>"
      ]
     },
     "execution_count": 80,
     "metadata": {},
     "output_type": "execute_result"
    },
    {
     "data": {
      "image/png": "[encoded data removed]",
      "text/plain": [
       "<Figure size 640x480 with 1 Axes>"
      ]
     },
     "metadata": {},
     "output_type": "display_data"
    }
   ],
   "source": [
    "#fig, ax =  plt.subplots()\n",
    "sns.histplot(data['median_house_value'], bins=100, color='blue', alpha=0.5)#, ax=ax)\n",
    "#sns.histplot(data['median_house_value']+200000, bins=100, color='red', alpha=0.5)#, ax=ax)"
   ]
  },
  {
   "cell_type": "code",
   "execution_count": 81,
   "id": "f1b6fd99",
   "metadata": {},
   "outputs": [
    {
     "data": {
      "text/plain": [
       "<AxesSubplot: ylabel='Count'>"
      ]
     },
     "execution_count": 81,
     "metadata": {},
     "output_type": "execute_result"
    },
    {
     "data": {
      "image/png": "[encoded data removed]",
      "text/plain": [
       "<Figure size 640x480 with 1 Axes>"
      ]
     },
     "metadata": {},
     "output_type": "display_data"
    }
   ],
   "source": [
    "sns.histplot(np.log1p(data['median_house_value'].values), bins=100, color='red', alpha=0.5)#, ax=ax)"
   ]
  },
  {
   "cell_type": "markdown",
   "id": "1f7be11a",
   "metadata": {},
   "source": [
    "# median house value does have long tail problem. But it does not very long. Even then it is good to use logarithm of it"
   ]
  },
  {
   "cell_type": "code",
   "execution_count": 82,
   "id": "fb9ccd8d",
   "metadata": {},
   "outputs": [
    {
     "data": {
      "text/html": [
       "<div>\n",
       "<style scoped>\n",
       "    .dataframe tbody tr th:only-of-type {\n",
       "        vertical-align: middle;\n",
       "    }\n",
       "\n",
       "    .dataframe tbody tr th {\n",
       "        vertical-align: top;\n",
       "    }\n",
       "\n",
       "    .dataframe thead th {\n",
       "        text-align: right;\n",
       "    }\n",
       "</style>\n",
       "<table border=\"1\" class=\"dataframe\">\n",
       "  <thead>\n",
       "    <tr style=\"text-align: right;\">\n",
       "      <th></th>\n",
       "      <th>latitude</th>\n",
       "      <th>longitude</th>\n",
       "      <th>housing_median_age</th>\n",
       "      <th>total_rooms</th>\n",
       "      <th>total_bedrooms</th>\n",
       "      <th>population</th>\n",
       "      <th>households</th>\n",
       "      <th>median_income</th>\n",
       "      <th>median_house_value</th>\n",
       "    </tr>\n",
       "  </thead>\n",
       "  <tbody>\n",
       "    <tr>\n",
       "      <th>0</th>\n",
       "      <td>37.88</td>\n",
       "      <td>-122.23</td>\n",
       "      <td>41</td>\n",
       "      <td>880</td>\n",
       "      <td>129.0</td>\n",
       "      <td>322</td>\n",
       "      <td>126</td>\n",
       "      <td>8.3252</td>\n",
       "      <td>452600</td>\n",
       "    </tr>\n",
       "    <tr>\n",
       "      <th>1</th>\n",
       "      <td>37.86</td>\n",
       "      <td>-122.22</td>\n",
       "      <td>21</td>\n",
       "      <td>7099</td>\n",
       "      <td>1106.0</td>\n",
       "      <td>2401</td>\n",
       "      <td>1138</td>\n",
       "      <td>8.3014</td>\n",
       "      <td>358500</td>\n",
       "    </tr>\n",
       "    <tr>\n",
       "      <th>2</th>\n",
       "      <td>37.85</td>\n",
       "      <td>-122.24</td>\n",
       "      <td>52</td>\n",
       "      <td>1467</td>\n",
       "      <td>190.0</td>\n",
       "      <td>496</td>\n",
       "      <td>177</td>\n",
       "      <td>7.2574</td>\n",
       "      <td>352100</td>\n",
       "    </tr>\n",
       "    <tr>\n",
       "      <th>3</th>\n",
       "      <td>37.85</td>\n",
       "      <td>-122.25</td>\n",
       "      <td>52</td>\n",
       "      <td>1274</td>\n",
       "      <td>235.0</td>\n",
       "      <td>558</td>\n",
       "      <td>219</td>\n",
       "      <td>5.6431</td>\n",
       "      <td>341300</td>\n",
       "    </tr>\n",
       "    <tr>\n",
       "      <th>4</th>\n",
       "      <td>37.85</td>\n",
       "      <td>-122.25</td>\n",
       "      <td>52</td>\n",
       "      <td>1627</td>\n",
       "      <td>280.0</td>\n",
       "      <td>565</td>\n",
       "      <td>259</td>\n",
       "      <td>3.8462</td>\n",
       "      <td>342200</td>\n",
       "    </tr>\n",
       "  </tbody>\n",
       "</table>\n",
       "</div>"
      ],
      "text/plain": [
       "   latitude  longitude  housing_median_age  total_rooms  total_bedrooms  \\\n",
       "0     37.88    -122.23                  41          880           129.0   \n",
       "1     37.86    -122.22                  21         7099          1106.0   \n",
       "2     37.85    -122.24                  52         1467           190.0   \n",
       "3     37.85    -122.25                  52         1274           235.0   \n",
       "4     37.85    -122.25                  52         1627           280.0   \n",
       "\n",
       "   population  households  median_income  median_house_value  \n",
       "0         322         126         8.3252              452600  \n",
       "1        2401        1138         8.3014              358500  \n",
       "2         496         177         7.2574              352100  \n",
       "3         558         219         5.6431              341300  \n",
       "4         565         259         3.8462              342200  "
      ]
     },
     "execution_count": 82,
     "metadata": {},
     "output_type": "execute_result"
    }
   ],
   "source": [
    "cols_needed = ['latitude',\n",
    "'longitude',\n",
    "'housing_median_age',\n",
    "'total_rooms',\n",
    "'total_bedrooms',\n",
    "'population',\n",
    "'households',\n",
    "'median_income',\n",
    "'median_house_value']\n",
    "\n",
    "data = data[cols_needed]\n",
    "data.head()"
   ]
  },
  {
   "cell_type": "code",
   "execution_count": 83,
   "id": "e61062a7",
   "metadata": {},
   "outputs": [
    {
     "data": {
      "text/plain": [
       "latitude                0\n",
       "longitude               0\n",
       "housing_median_age      0\n",
       "total_rooms             0\n",
       "total_bedrooms        207\n",
       "population              0\n",
       "households              0\n",
       "median_income           0\n",
       "median_house_value      0\n",
       "dtype: int64"
      ]
     },
     "execution_count": 83,
     "metadata": {},
     "output_type": "execute_result"
    }
   ],
   "source": [
    "data.isna().sum()"
   ]
  },
  {
   "cell_type": "markdown",
   "id": "eb6d7bf7",
   "metadata": {},
   "source": [
    "## total_bedrooms contain 207 null values"
   ]
  },
  {
   "cell_type": "code",
   "execution_count": 84,
   "id": "a7c61a77",
   "metadata": {},
   "outputs": [
    {
     "name": "stdout",
     "output_type": "stream",
     "text": [
      "[0, 1, 2, 3, 4, 5, 6, 7, 8, 9]\n",
      "[20046, 3024, 15663, 20484, 9814, 13311, 7113, 7668, 18246, 5723]\n"
     ]
    }
   ],
   "source": [
    "np.random.seed(42)\n",
    "rand_idx = list(data.index)\n",
    "print(rand_idx[0:10])\n",
    "np.random.shuffle(rand_idx)\n",
    "print(rand_idx[0:10])"
   ]
  },
  {
   "cell_type": "code",
   "execution_count": 85,
   "id": "483262ae",
   "metadata": {},
   "outputs": [
    {
     "name": "stdout",
     "output_type": "stream",
     "text": [
      "Index(['latitude', 'longitude', 'housing_median_age', 'total_rooms',\n",
      "       'total_bedrooms', 'population', 'households', 'median_income'],\n",
      "      dtype='object')\n",
      "(20640, 9) (12384,) (4128,) (4128,)\n"
     ]
    }
   ],
   "source": [
    "len_train = int(0.6 * data.shape[0])\n",
    "len_val = int(0.2 * data.shape[0])\n",
    "\n",
    "x_train = data.loc[rand_idx[0:len_train]]\n",
    "y_train = x_train['median_house_value']\n",
    "y_train = np.log1p(y_train)\n",
    "x_train.drop('median_house_value', axis=1, inplace=True)\n",
    "\n",
    "x_val = data.loc[rand_idx[len_train:len_train+len_val]]\n",
    "y_val = x_val['median_house_value']\n",
    "y_val = np.log1p(y_val)\n",
    "x_val.drop('median_house_value', axis=1, inplace=True)\n",
    "\n",
    "x_test = data.loc[rand_idx[len_train+len_val:]]\n",
    "y_test = x_test['median_house_value']\n",
    "y_test = np.log1p(y_test)\n",
    "x_test.drop('median_house_value', axis=1, inplace=True)\n",
    "\n",
    "print(x_train.columns)\n",
    "print(data.shape, y_train.shape, y_val.shape, y_test.shape)"
   ]
  },
  {
   "cell_type": "code",
   "execution_count": 128,
   "id": "c64e6c46",
   "metadata": {},
   "outputs": [
    {
     "name": "stdout",
     "output_type": "stream",
     "text": [
      "latitude                0\n",
      "longitude               0\n",
      "housing_median_age      0\n",
      "total_rooms             0\n",
      "total_bedrooms        128\n",
      "population              0\n",
      "households              0\n",
      "median_income           0\n",
      "dtype: int64\n",
      "latitude               0\n",
      "longitude              0\n",
      "housing_median_age     0\n",
      "total_rooms            0\n",
      "total_bedrooms        32\n",
      "population             0\n",
      "households             0\n",
      "median_income          0\n",
      "dtype: int64\n",
      "latitude              0\n",
      "longitude             0\n",
      "housing_median_age    0\n",
      "total_rooms           0\n",
      "total_bedrooms        0\n",
      "population            0\n",
      "households            0\n",
      "median_income         0\n",
      "dtype: int64\n"
     ]
    }
   ],
   "source": [
    "print(x_train.isna().sum())\n",
    "print(x_val.isna().sum())\n",
    "print(x_test.isna().sum())"
   ]
  },
  {
   "cell_type": "code",
   "execution_count": 129,
   "id": "f7ff54c4",
   "metadata": {},
   "outputs": [],
   "source": [
    "def prepare_data(input, apply_zero = True):\n",
    "    data = input.copy()\n",
    "    \n",
    "    fill_val = 0\n",
    "    if not apply_zero:\n",
    "        fill_val = data['total_bedrooms'].mean()\n",
    "    data['total_bedrooms'] = data['total_bedrooms'].fillna(fill_val)\n",
    "\n",
    "    return data\n",
    "\n",
    "def train_regression(x, y):\n",
    "    one_val = np.ones(x.shape[0])\n",
    "    x = np.column_stack((one_val, x))\n",
    "    xtx = x.T.dot(x)\n",
    "    xtx_inv = np.linalg.inv(xtx)\n",
    "\n",
    "    w_full = xtx_inv.dot(x.T).dot(y)\n",
    "\n",
    "    return w_full[0], w_full[1:]\n",
    "\n",
    "def rmse(y_act, y_pred, round_val=None):\n",
    "    temp = np.square(y_act - y_pred)\n",
    "    vari = np.average(temp)\n",
    "    std = np.sqrt(vari)\n",
    "    if round_val:\n",
    "        std = std.round(round_val)\n",
    "    return std\n",
    "\n",
    "def predict(x, w0, w):\n",
    "    result = w0 + x.dot(w)\n",
    "    \n",
    "    return result\n"
   ]
  },
  {
   "cell_type": "code",
   "execution_count": 131,
   "id": "d338f0ab",
   "metadata": {},
   "outputs": [
    {
     "name": "stdout",
     "output_type": "stream",
     "text": [
      "6564938.0\n",
      "6633501.321148824\n",
      "2197970.0\n",
      "2215141.640625\n"
     ]
    }
   ],
   "source": [
    "print(prepare_data(x_train, apply_zero=True)['total_bedrooms'].sum())\n",
    "print(prepare_data(x_train, apply_zero=False)['total_bedrooms'].sum())\n",
    "\n",
    "print(prepare_data(x_val, apply_zero=True)['total_bedrooms'].sum())\n",
    "print(prepare_data(x_val, apply_zero=False)['total_bedrooms'].sum())"
   ]
  },
  {
   "cell_type": "code",
   "execution_count": 132,
   "id": "475fcd21",
   "metadata": {},
   "outputs": [
    {
     "name": "stdout",
     "output_type": "stream",
     "text": [
      "0.34\n",
      "0.34\n"
     ]
    }
   ],
   "source": [
    "w0_zero, w_zero = train_regression(prepare_data(x_train, apply_zero=True).values, y_train.values)\n",
    "x_val_zero = prepare_data(x_val, apply_zero=True).values\n",
    "zero_val_pred = predict(x_val_zero, w0_zero, w_zero)\n",
    "print(rmse(y_val, zero_val_pred, round_val=2))\n",
    "#print(w0_zero, w_zero)\n",
    "\n",
    "w0_mean, w_mean = train_regression(prepare_data(x_train, apply_zero=False).values, y_train.values)\n",
    "mean_val_pred = predict(x_val_zero, w0_mean, w_mean)\n",
    "print(rmse(y_val, mean_val_pred, round_val=2))\n",
    "#print(w0_mean, w_mean)"
   ]
  },
  {
   "cell_type": "markdown",
   "id": "524298d3",
   "metadata": {},
   "source": [
    "## Applying mean or zero has the same results"
   ]
  },
  {
   "cell_type": "code",
   "execution_count": 133,
   "id": "a790c85f",
   "metadata": {},
   "outputs": [
    {
     "name": "stdout",
     "output_type": "stream",
     "text": [
      "Score for regularization with 0 value is 0.34\n",
      "Score for regularization with 1e-06 value is 0.34\n",
      "Score for regularization with 0.0001 value is 0.34\n",
      "Score for regularization with 0.001 value is 0.34\n",
      "Score for regularization with 0.01 value is 0.34\n",
      "Score for regularization with 0.1 value is 0.34\n",
      "Score for regularization with 1 value is 0.34\n",
      "Score for regularization with 5 value is 0.34\n",
      "Score for regularization with 10 value is 0.34\n"
     ]
    }
   ],
   "source": [
    "for r in [0, 0.000001, 0.0001, 0.001, 0.01, 0.1, 1, 5, 10]:\n",
    "    temp = prepare_data(x_train, apply_zero=True).values\n",
    "    temp = temp + r * np.eye(temp.shape[0], temp.shape[1])\n",
    "    #print(temp.sum().sum())\n",
    "    w0_zero, w_zero = train_regression(temp, y_train.values)\n",
    "    x_val_zero = prepare_data(x_val, apply_zero=True).values\n",
    "    zero_val_pred = predict(x_val_zero, w0_zero, w_zero)\n",
    "    print(f'Score for regularization with {r} value is {rmse(y_val, zero_val_pred, round_val=2)}')"
   ]
  },
  {
   "cell_type": "markdown",
   "id": "0069aea8",
   "metadata": {},
   "source": [
    "# Different regularization also did not have any difference in imapct"
   ]
  },
  {
   "cell_type": "code",
   "execution_count": 137,
   "id": "27e66778",
   "metadata": {},
   "outputs": [
    {
     "name": "stdout",
     "output_type": "stream",
     "text": [
      "Score for Seed with 0 value is 0.33884304805312637\n",
      "Score for Seed with 1 value is 0.33623872559560086\n",
      "Score for Seed with 2 value is 0.33209123188346257\n",
      "Score for Seed with 3 value is 0.3405153609032864\n",
      "Score for Seed with 4 value is 0.33890240665741866\n",
      "Score for Seed with 5 value is 0.3434866725719319\n",
      "Score for Seed with 6 value is 0.34519809531013984\n",
      "Score for Seed with 7 value is 0.33959899274099736\n",
      "Score for Seed with 8 value is 0.3466230873193225\n",
      "Score for Seed with 9 value is 0.33659261241764615\n",
      "Std. deviation of scores -  0.004\n"
     ]
    }
   ],
   "source": [
    "scores = []\n",
    "for seed in [0, 1, 2, 3, 4, 5, 6, 7, 8, 9]:\n",
    "    np.random.seed(seed)\n",
    "    rand_idx = list(data.index)\n",
    "    np.random.shuffle(rand_idx)\n",
    "\n",
    "    len_train = int(0.6 * data.shape[0])\n",
    "    len_val = int(0.2 * data.shape[0])\n",
    "\n",
    "    x_train = data.loc[rand_idx[0:len_train]]\n",
    "    y_train = x_train['median_house_value']\n",
    "    y_train = np.log1p(y_train)\n",
    "    x_train.drop('median_house_value', axis=1, inplace=True)\n",
    "\n",
    "    x_val = data.loc[rand_idx[len_train:len_train+len_val]]\n",
    "    y_val = x_val['median_house_value']\n",
    "    y_val = np.log1p(y_val)\n",
    "    x_val.drop('median_house_value', axis=1, inplace=True)\n",
    "\n",
    "    temp = prepare_data(x_train, apply_zero=True).values\n",
    "    temp = temp + 0.0 * np.eye(temp.shape[0], temp.shape[1])\n",
    "\n",
    "    w0, w = train_regression(temp, y_train.values)\n",
    "    x_val_zero = prepare_data(x_val, apply_zero=True).values\n",
    "    pred_val = predict(x_val_zero, w0, w)\n",
    "\n",
    "    #print(w0, w, pred_val)\n",
    "\n",
    "    score = rmse(y_val, pred_val, round_val=None)\n",
    "    scores.append(score)\n",
    "    print(f'Score for Seed with {seed} value is {score}')\n",
    "\n",
    "print('Std. deviation of scores - ', np.std(scores).round(3))\n"
   ]
  },
  {
   "cell_type": "markdown",
   "id": "ed2b4c2b",
   "metadata": {},
   "source": [
    "# The model is stable"
   ]
  },
  {
   "cell_type": "code",
   "execution_count": 157,
   "id": "ef74b00a",
   "metadata": {},
   "outputs": [
    {
     "name": "stdout",
     "output_type": "stream",
     "text": [
      "Test Score for Seed 9 with regularizaton 0.001 is 0.34531495230811216\n"
     ]
    }
   ],
   "source": [
    "np.random.seed(9)\n",
    "rand_idx = list(data.index)\n",
    "np.random.shuffle(rand_idx)\n",
    "\n",
    "len_train = int(0.6 * data.shape[0])\n",
    "len_val = int(0.2 * data.shape[0])\n",
    "\n",
    "x_train = data.loc[rand_idx[0:len_train]]\n",
    "y_train = x_train['median_house_value']\n",
    "y_train = np.log1p(y_train)\n",
    "x_train.drop('median_house_value', axis=1, inplace=True)\n",
    "\n",
    "x_val = data.loc[rand_idx[len_train:len_train+len_val]]\n",
    "y_val = x_val['median_house_value']\n",
    "y_val = np.log1p(y_val)\n",
    "x_val.drop('median_house_value', axis=1, inplace=True)\n",
    "\n",
    "x_test = data.loc[rand_idx[len_train+len_val:]]\n",
    "y_test = x_test['median_house_value']\n",
    "y_test = np.log1p(y_test)\n",
    "x_test.drop('median_house_value', axis=1, inplace=True)\n",
    "\n",
    "x_train = pd.concat([x_train, x_val])\n",
    "y_train = pd.concat([y_train, y_val])\n",
    "\n",
    "temp = prepare_data(x_train, apply_zero=True).values\n",
    "temp = temp + 0.001 * np.eye(temp.shape[0], temp.shape[1])\n",
    "\n",
    "w0, w = train_regression(temp, y_train.values)\n",
    "\n",
    "temp = prepare_data(x_test, apply_zero=True).values\n",
    "pred_test = predict(temp, w0, w)\n",
    "\n",
    "#print(w0, w, pred_test)\n",
    "\n",
    "score = rmse(y_test, pred_test, round_val=None)\n",
    "scores.append(score)\n",
    "print(f'Test Score for Seed 9 with regularizaton 0.001 is {score}')"
   ]
  }
 ],
 "metadata": {
  "kernelspec": {
   "display_name": "Python 3.9.7 ('learn-or')",
   "language": "python",
   "name": "python3"
  },
  "language_info": {
   "codemirror_mode": {
    "name": "ipython",
    "version": 3
   },
   "file_extension": ".py",
   "mimetype": "text/x-python",
   "name": "python",
   "nbconvert_exporter": "python",
   "pygments_lexer": "ipython3",
   "version": "3.9.7"
  },
  "vscode": {
   "interpreter": {
    "hash": "dbe8dfcb2887713b0fa277c0018294c4767e2d20d7335ccd6f97d711dde03224"
   }
  }
 },
 "nbformat": 4,
 "nbformat_minor": 5
}
