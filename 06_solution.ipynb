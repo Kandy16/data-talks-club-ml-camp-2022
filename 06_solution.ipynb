{
  "cells": [
    {
      "cell_type": "markdown",
      "metadata": {
        "id": "-JrenrSGmAeg"
      },
      "source": [
        "**HOMEWORK**  \n",
        "\n",
        "The goal of this homework is to create a regression model for predicting housing prices (column 'median_house_value').  \n",
        "\n",
        "In this homework we'll again use the California Housing Prices dataset - the same one we used in homework 2 and 3.\n",
        "\n",
        "You can take it from [Kaggle](https://www.kaggle.com/datasets/camnugent/california-housing-prices) or download using wget link mentioned below:\n",
        "\n",
        "```\n",
        "wget https://raw.githubusercontent.com/alexeygrigorev/datasets/master/housing.csv\n",
        "\n",
        "```\n",
        "\n"
      ]
    },
    {
      "cell_type": "code",
      "execution_count": 1,
      "metadata": {
        "id": "nLosiCNJUjDM"
      },
      "outputs": [
        {
          "name": "stderr",
          "output_type": "stream",
          "text": [
            "c:\\Users\\KandhasamyRajasekara\\anaconda3\\envs\\learn-or\\lib\\site-packages\\tqdm\\auto.py:22: TqdmWarning: IProgress not found. Please update jupyter and ipywidgets. See https://ipywidgets.readthedocs.io/en/stable/user_install.html\n",
            "  from .autonotebook import tqdm as notebook_tqdm\n"
          ]
        }
      ],
      "source": [
        "#@ IMPORTING LIBRARIES AND DEPENDENCIES:\n",
        "import re\n",
        "import numpy as np\n",
        "import pandas as pd\n",
        "import seaborn as sns\n",
        "import xgboost as xgb\n",
        "import matplotlib.pyplot as plt\n",
        "from tqdm.auto import tqdm\n",
        "from sklearn.tree import DecisionTreeRegressor\n",
        "from sklearn.tree import export_text\n",
        "from sklearn.feature_extraction import DictVectorizer\n",
        "from sklearn.model_selection import train_test_split\n",
        "from sklearn.ensemble import RandomForestRegressor\n",
        "from sklearn.metrics import mean_squared_error\n",
        "\n",
        "%matplotlib inline"
      ]
    },
    {
      "cell_type": "code",
      "execution_count": 5,
      "metadata": {
        "id": "4Psk224nnyIF"
      },
      "outputs": [
        {
          "name": "stderr",
          "output_type": "stream",
          "text": [
            "  % Total    % Received % Xferd  Average Speed   Time    Time     Time  Current\n",
            "                                 Dload  Upload   Total   Spent    Left  Speed\n",
            "\n",
            "  0     0    0     0    0     0      0      0 --:--:-- --:--:-- --:--:--     0\n",
            "  0 1390k    0  2742    0     0   6867      0  0:03:27 --:--:--  0:03:27  6872\n",
            "100 1390k  100 1390k    0     0  2089k      0 --:--:-- --:--:-- --:--:-- 2090k\n"
          ]
        }
      ],
      "source": [
        "#@ DOWNLOADING THE DATASET: UNCOMMENT BELOW:\n",
        "!curl https://raw.githubusercontent.com/alexeygrigorev/datasets/master/housing.csv > 06_housing.csv"
      ]
    },
    {
      "cell_type": "code",
      "execution_count": 2,
      "metadata": {
        "id": "492Hn6-3n08G"
      },
      "outputs": [],
      "source": [
        "#@ READING DATASET:\n",
        "PATH = \"./06_housing.csv\"\n",
        "select_cols = [\"longitude\", \"latitude\", \"housing_median_age\", \"total_rooms\", \"total_bedrooms\", \"population\", \"households\", \n",
        "               \"median_income\", \"median_house_value\", \"ocean_proximity\"]\n",
        "df = pd.read_csv(PATH, usecols=select_cols)\n",
        "df.total_bedrooms = df.total_bedrooms.fillna(0)"
      ]
    },
    {
      "cell_type": "markdown",
      "metadata": {
        "id": "OqXppJ_Ro0H0"
      },
      "source": [
        "- Apply the log transform to `median_house_value`. \n",
        "- Do train/validation/test split with 60%/20%/20% distribution.\n",
        "- Use the `train_test_split` function and set the `random_state parameter` to 1."
      ]
    },
    {
      "cell_type": "code",
      "execution_count": 4,
      "metadata": {},
      "outputs": [
        {
          "data": {
            "text/plain": [
              "(20640, 10)"
            ]
          },
          "metadata": {},
          "output_type": "display_data"
        },
        {
          "data": {
            "text/plain": [
              "(16512, 10)"
            ]
          },
          "metadata": {},
          "output_type": "display_data"
        },
        {
          "data": {
            "text/plain": [
              "(12384, 10)"
            ]
          },
          "metadata": {},
          "output_type": "display_data"
        },
        {
          "data": {
            "text/plain": [
              "(4128, 10)"
            ]
          },
          "metadata": {},
          "output_type": "display_data"
        },
        {
          "data": {
            "text/plain": [
              "(4128, 10)"
            ]
          },
          "metadata": {},
          "output_type": "display_data"
        }
      ],
      "source": [
        "df['log_median_house_value'] = np.log1p(df.median_house_value)\n",
        "\n",
        "del df['median_house_value']\n",
        "\n",
        "df_full_train, df_test = train_test_split(df, test_size=0.2, random_state=1)\n",
        "df_train, df_val = train_test_split(df_full_train, test_size=0.25, random_state=1)\n",
        "\n",
        "display(df.shape)\n",
        "display(df_full_train.shape)\n",
        "display(df_train.shape)\n",
        "display(df_val.shape)\n",
        "display(df_test.shape)"
      ]
    },
    {
      "cell_type": "markdown",
      "metadata": {
        "id": "5VKq8FX7qIVM"
      },
      "source": [
        "- We will use `DictVectorizer` to turn train and validation into matrices."
      ]
    },
    {
      "cell_type": "code",
      "execution_count": 13,
      "metadata": {
        "id": "WnfFrWe9qtuc"
      },
      "outputs": [],
      "source": [
        "#@ IMPLEMENTATION OF DICTVECTORIZER:\n",
        "dictVectorizer = DictVectorizer(sparse=False)\n",
        "train_y = df_train.log_median_house_value\n",
        "train_x = df_train.drop('log_median_house_value', axis=1)\n",
        "\n",
        "train_dict = train_x.to_dict(orient='records')\n",
        "train_x = dictVectorizer.fit_transform(train_dict)\n",
        "\n",
        "val_y = df_val.log_median_house_value\n",
        "val_x = df_val.drop('log_median_house_value', axis=1)\n",
        "\n",
        "val_dict = val_x.to_dict(orient='records')\n",
        "val_x = dictVectorizer.transform(val_dict)\n",
        "\n",
        "test_y = df_test.log_median_house_value\n",
        "test_x = df_test.drop('log_median_house_value', axis=1)\n",
        "\n",
        "test_dict = test_x.to_dict(orient='records')\n",
        "test_x = dictVectorizer.transform(test_dict)"
      ]
    },
    {
      "cell_type": "markdown",
      "metadata": {
        "id": "qvxmhaD5hmAK"
      },
      "source": [
        "**Question 1**\n",
        "\n",
        "Let's train a decision tree regressor to predict the `median_house_value` variable.\n",
        "\n",
        "Train a model with `max_depth=1`."
      ]
    },
    {
      "cell_type": "code",
      "execution_count": 19,
      "metadata": {
        "id": "cqBcSbpIq7kJ"
      },
      "outputs": [
        {
          "data": {
            "text/html": [
              "<style>#sk-container-id-1 {color: black;background-color: white;}#sk-container-id-1 pre{padding: 0;}#sk-container-id-1 div.sk-toggleable {background-color: white;}#sk-container-id-1 label.sk-toggleable__label {cursor: pointer;display: block;width: 100%;margin-bottom: 0;padding: 0.3em;box-sizing: border-box;text-align: center;}#sk-container-id-1 label.sk-toggleable__label-arrow:before {content: \"▸\";float: left;margin-right: 0.25em;color: #696969;}#sk-container-id-1 label.sk-toggleable__label-arrow:hover:before {color: black;}#sk-container-id-1 div.sk-estimator:hover label.sk-toggleable__label-arrow:before {color: black;}#sk-container-id-1 div.sk-toggleable__content {max-height: 0;max-width: 0;overflow: hidden;text-align: left;background-color: #f0f8ff;}#sk-container-id-1 div.sk-toggleable__content pre {margin: 0.2em;color: black;border-radius: 0.25em;background-color: #f0f8ff;}#sk-container-id-1 input.sk-toggleable__control:checked~div.sk-toggleable__content {max-height: 200px;max-width: 100%;overflow: auto;}#sk-container-id-1 input.sk-toggleable__control:checked~label.sk-toggleable__label-arrow:before {content: \"▾\";}#sk-container-id-1 div.sk-estimator input.sk-toggleable__control:checked~label.sk-toggleable__label {background-color: #d4ebff;}#sk-container-id-1 div.sk-label input.sk-toggleable__control:checked~label.sk-toggleable__label {background-color: #d4ebff;}#sk-container-id-1 input.sk-hidden--visually {border: 0;clip: rect(1px 1px 1px 1px);clip: rect(1px, 1px, 1px, 1px);height: 1px;margin: -1px;overflow: hidden;padding: 0;position: absolute;width: 1px;}#sk-container-id-1 div.sk-estimator {font-family: monospace;background-color: #f0f8ff;border: 1px dotted black;border-radius: 0.25em;box-sizing: border-box;margin-bottom: 0.5em;}#sk-container-id-1 div.sk-estimator:hover {background-color: #d4ebff;}#sk-container-id-1 div.sk-parallel-item::after {content: \"\";width: 100%;border-bottom: 1px solid gray;flex-grow: 1;}#sk-container-id-1 div.sk-label:hover label.sk-toggleable__label {background-color: #d4ebff;}#sk-container-id-1 div.sk-serial::before {content: \"\";position: absolute;border-left: 1px solid gray;box-sizing: border-box;top: 0;bottom: 0;left: 50%;z-index: 0;}#sk-container-id-1 div.sk-serial {display: flex;flex-direction: column;align-items: center;background-color: white;padding-right: 0.2em;padding-left: 0.2em;position: relative;}#sk-container-id-1 div.sk-item {position: relative;z-index: 1;}#sk-container-id-1 div.sk-parallel {display: flex;align-items: stretch;justify-content: center;background-color: white;position: relative;}#sk-container-id-1 div.sk-item::before, #sk-container-id-1 div.sk-parallel-item::before {content: \"\";position: absolute;border-left: 1px solid gray;box-sizing: border-box;top: 0;bottom: 0;left: 50%;z-index: -1;}#sk-container-id-1 div.sk-parallel-item {display: flex;flex-direction: column;z-index: 1;position: relative;background-color: white;}#sk-container-id-1 div.sk-parallel-item:first-child::after {align-self: flex-end;width: 50%;}#sk-container-id-1 div.sk-parallel-item:last-child::after {align-self: flex-start;width: 50%;}#sk-container-id-1 div.sk-parallel-item:only-child::after {width: 0;}#sk-container-id-1 div.sk-dashed-wrapped {border: 1px dashed gray;margin: 0 0.4em 0.5em 0.4em;box-sizing: border-box;padding-bottom: 0.4em;background-color: white;}#sk-container-id-1 div.sk-label label {font-family: monospace;font-weight: bold;display: inline-block;line-height: 1.2em;}#sk-container-id-1 div.sk-label-container {text-align: center;}#sk-container-id-1 div.sk-container {/* jupyter's `normalize.less` sets `[hidden] { display: none; }` but bootstrap.min.css set `[hidden] { display: none !important; }` so we also need the `!important` here to be able to override the default hidden behavior on the sphinx rendered scikit-learn.org. See: https://github.com/scikit-learn/scikit-learn/issues/21755 */display: inline-block !important;position: relative;}#sk-container-id-1 div.sk-text-repr-fallback {display: none;}</style><div id=\"sk-container-id-1\" class=\"sk-top-container\"><div class=\"sk-text-repr-fallback\"><pre>DecisionTreeRegressor(max_depth=1)</pre><b>In a Jupyter environment, please rerun this cell to show the HTML representation or trust the notebook. <br />On GitHub, the HTML representation is unable to render, please try loading this page with nbviewer.org.</b></div><div class=\"sk-container\" hidden><div class=\"sk-item\"><div class=\"sk-estimator sk-toggleable\"><input class=\"sk-toggleable__control sk-hidden--visually\" id=\"sk-estimator-id-1\" type=\"checkbox\" checked><label for=\"sk-estimator-id-1\" class=\"sk-toggleable__label sk-toggleable__label-arrow\">DecisionTreeRegressor</label><div class=\"sk-toggleable__content\"><pre>DecisionTreeRegressor(max_depth=1)</pre></div></div></div></div></div>"
            ],
            "text/plain": [
              "DecisionTreeRegressor(max_depth=1)"
            ]
          },
          "execution_count": 19,
          "metadata": {},
          "output_type": "execute_result"
        }
      ],
      "source": [
        "#@ TRAINING THE REGRESSION MODEL:\n",
        "treeRegressor = DecisionTreeRegressor(max_depth=1)\n",
        "treeRegressor.fit(train_x, train_y)"
      ]
    },
    {
      "cell_type": "code",
      "execution_count": 21,
      "metadata": {
        "id": "sLAnqRwuikqQ"
      },
      "outputs": [
        {
          "data": {
            "text/plain": [
              "'|--- ocean_proximity=INLAND <= 0.50\\n|   |--- value: [12.31]\\n|--- ocean_proximity=INLAND >  0.50\\n|   |--- value: [11.61]\\n'"
            ]
          },
          "execution_count": 21,
          "metadata": {},
          "output_type": "execute_result"
        }
      ],
      "source": [
        "#@ INSPECTION:\n",
        "export_text(treeRegressor, feature_names = dictVectorizer.feature_names_)"
      ]
    },
    {
      "cell_type": "markdown",
      "metadata": {
        "id": "JNBm-qeRp6aZ"
      },
      "source": [
        "- Which feature is used for splitting the data?\n",
        "\n",
        "- Answer:"
      ]
    },
    {
      "cell_type": "markdown",
      "metadata": {
        "id": "Xhnbdy-CqQoB"
      },
      "source": [
        "**Question 2**\n",
        "\n",
        "Train a random forest model with these parameters:\n",
        "\n",
        "- `n_estimators=10`  \n",
        "- `random_state=1`  \n",
        "- `n_jobs=-1` (optional-to make training faster)"
      ]
    },
    {
      "cell_type": "code",
      "execution_count": 22,
      "metadata": {
        "id": "2w-YSGYMisFt"
      },
      "outputs": [
        {
          "data": {
            "text/html": [
              "<style>#sk-container-id-2 {color: black;background-color: white;}#sk-container-id-2 pre{padding: 0;}#sk-container-id-2 div.sk-toggleable {background-color: white;}#sk-container-id-2 label.sk-toggleable__label {cursor: pointer;display: block;width: 100%;margin-bottom: 0;padding: 0.3em;box-sizing: border-box;text-align: center;}#sk-container-id-2 label.sk-toggleable__label-arrow:before {content: \"▸\";float: left;margin-right: 0.25em;color: #696969;}#sk-container-id-2 label.sk-toggleable__label-arrow:hover:before {color: black;}#sk-container-id-2 div.sk-estimator:hover label.sk-toggleable__label-arrow:before {color: black;}#sk-container-id-2 div.sk-toggleable__content {max-height: 0;max-width: 0;overflow: hidden;text-align: left;background-color: #f0f8ff;}#sk-container-id-2 div.sk-toggleable__content pre {margin: 0.2em;color: black;border-radius: 0.25em;background-color: #f0f8ff;}#sk-container-id-2 input.sk-toggleable__control:checked~div.sk-toggleable__content {max-height: 200px;max-width: 100%;overflow: auto;}#sk-container-id-2 input.sk-toggleable__control:checked~label.sk-toggleable__label-arrow:before {content: \"▾\";}#sk-container-id-2 div.sk-estimator input.sk-toggleable__control:checked~label.sk-toggleable__label {background-color: #d4ebff;}#sk-container-id-2 div.sk-label input.sk-toggleable__control:checked~label.sk-toggleable__label {background-color: #d4ebff;}#sk-container-id-2 input.sk-hidden--visually {border: 0;clip: rect(1px 1px 1px 1px);clip: rect(1px, 1px, 1px, 1px);height: 1px;margin: -1px;overflow: hidden;padding: 0;position: absolute;width: 1px;}#sk-container-id-2 div.sk-estimator {font-family: monospace;background-color: #f0f8ff;border: 1px dotted black;border-radius: 0.25em;box-sizing: border-box;margin-bottom: 0.5em;}#sk-container-id-2 div.sk-estimator:hover {background-color: #d4ebff;}#sk-container-id-2 div.sk-parallel-item::after {content: \"\";width: 100%;border-bottom: 1px solid gray;flex-grow: 1;}#sk-container-id-2 div.sk-label:hover label.sk-toggleable__label {background-color: #d4ebff;}#sk-container-id-2 div.sk-serial::before {content: \"\";position: absolute;border-left: 1px solid gray;box-sizing: border-box;top: 0;bottom: 0;left: 50%;z-index: 0;}#sk-container-id-2 div.sk-serial {display: flex;flex-direction: column;align-items: center;background-color: white;padding-right: 0.2em;padding-left: 0.2em;position: relative;}#sk-container-id-2 div.sk-item {position: relative;z-index: 1;}#sk-container-id-2 div.sk-parallel {display: flex;align-items: stretch;justify-content: center;background-color: white;position: relative;}#sk-container-id-2 div.sk-item::before, #sk-container-id-2 div.sk-parallel-item::before {content: \"\";position: absolute;border-left: 1px solid gray;box-sizing: border-box;top: 0;bottom: 0;left: 50%;z-index: -1;}#sk-container-id-2 div.sk-parallel-item {display: flex;flex-direction: column;z-index: 1;position: relative;background-color: white;}#sk-container-id-2 div.sk-parallel-item:first-child::after {align-self: flex-end;width: 50%;}#sk-container-id-2 div.sk-parallel-item:last-child::after {align-self: flex-start;width: 50%;}#sk-container-id-2 div.sk-parallel-item:only-child::after {width: 0;}#sk-container-id-2 div.sk-dashed-wrapped {border: 1px dashed gray;margin: 0 0.4em 0.5em 0.4em;box-sizing: border-box;padding-bottom: 0.4em;background-color: white;}#sk-container-id-2 div.sk-label label {font-family: monospace;font-weight: bold;display: inline-block;line-height: 1.2em;}#sk-container-id-2 div.sk-label-container {text-align: center;}#sk-container-id-2 div.sk-container {/* jupyter's `normalize.less` sets `[hidden] { display: none; }` but bootstrap.min.css set `[hidden] { display: none !important; }` so we also need the `!important` here to be able to override the default hidden behavior on the sphinx rendered scikit-learn.org. See: https://github.com/scikit-learn/scikit-learn/issues/21755 */display: inline-block !important;position: relative;}#sk-container-id-2 div.sk-text-repr-fallback {display: none;}</style><div id=\"sk-container-id-2\" class=\"sk-top-container\"><div class=\"sk-text-repr-fallback\"><pre>RandomForestRegressor(n_estimators=10, n_jobs=-1, random_state=1)</pre><b>In a Jupyter environment, please rerun this cell to show the HTML representation or trust the notebook. <br />On GitHub, the HTML representation is unable to render, please try loading this page with nbviewer.org.</b></div><div class=\"sk-container\" hidden><div class=\"sk-item\"><div class=\"sk-estimator sk-toggleable\"><input class=\"sk-toggleable__control sk-hidden--visually\" id=\"sk-estimator-id-2\" type=\"checkbox\" checked><label for=\"sk-estimator-id-2\" class=\"sk-toggleable__label sk-toggleable__label-arrow\">RandomForestRegressor</label><div class=\"sk-toggleable__content\"><pre>RandomForestRegressor(n_estimators=10, n_jobs=-1, random_state=1)</pre></div></div></div></div></div>"
            ],
            "text/plain": [
              "RandomForestRegressor(n_estimators=10, n_jobs=-1, random_state=1)"
            ]
          },
          "execution_count": 22,
          "metadata": {},
          "output_type": "execute_result"
        }
      ],
      "source": [
        "#@ TRAINING RANDOM FOREST MODEL:\n",
        "rf_regressor = RandomForestRegressor(n_estimators=10, random_state=1, n_jobs=-1)\n",
        "rf_regressor.fit(train_x, train_y)"
      ]
    },
    {
      "cell_type": "code",
      "execution_count": 23,
      "metadata": {
        "id": "jCxUAO2Rq1Ps"
      },
      "outputs": [
        {
          "data": {
            "text/plain": [
              "0.0603873333768641"
            ]
          },
          "execution_count": 23,
          "metadata": {},
          "output_type": "execute_result"
        }
      ],
      "source": [
        "#@ CALCULATING MEAN SQUARED ERROR:\n",
        "val_pred = rf_regressor.predict(val_x)\n",
        "mean_squared_error(val_y, val_pred)"
      ]
    },
    {
      "cell_type": "markdown",
      "metadata": {
        "id": "jfcDllHxrTqu"
      },
      "source": [
        "- What's the RMSE of this model on validation?\n",
        "\n",
        "- Answer: "
      ]
    },
    {
      "cell_type": "markdown",
      "metadata": {
        "id": "Y7K69bFSrg_V"
      },
      "source": [
        "**Question 3**\n",
        "\n",
        "Now, let's experiment with the `n_estimators` parameter.\n",
        "\n",
        "- Try different values of this parameter from 10 to 200 with step 10.\n",
        "- Set `random_state` to 1.\n",
        "- Evaluate the model on the validation dataset."
      ]
    },
    {
      "cell_type": "code",
      "execution_count": 27,
      "metadata": {
        "id": "-oUFCQwOrQNN"
      },
      "outputs": [
        {
          "data": {
            "image/png": "[encoded data removed]",
            "text/plain": [
              "<Figure size 640x480 with 1 Axes>"
            ]
          },
          "metadata": {},
          "output_type": "display_data"
        }
      ],
      "source": [
        "#@ TRAINING THE RANDOM FOREST MODEL:\n",
        "mean_sqr_error_list = []\n",
        "for n_est in range(10, 210, 10):\n",
        "    rf_regressor = RandomForestRegressor(n_estimators=n_est, random_state=1, n_jobs=-1)\n",
        "    rf_regressor.fit(train_x, train_y)\n",
        "\n",
        "    val_pred = rf_regressor.predict(val_x)\n",
        "    mean_sqr_error_list.append(mean_squared_error(val_y, val_pred))\n"
      ]
    },
    {
      "cell_type": "code",
      "execution_count": 28,
      "metadata": {
        "id": "3J-wFLh4s8Ky"
      },
      "outputs": [
        {
          "data": {
            "image/png": "[encoded data removed]",
            "text/plain": [
              "<Figure size 640x480 with 1 Axes>"
            ]
          },
          "metadata": {},
          "output_type": "display_data"
        }
      ],
      "source": [
        "#@ INSPECTING THE RMSE SCORES:\n",
        "plt.plot(list(range(10, 210, 10)), mean_sqr_error_list)\n",
        "plt.show()"
      ]
    },
    {
      "cell_type": "markdown",
      "metadata": {
        "id": "NAXZcW3AuC-d"
      },
      "source": [
        "- After which value of `n_estimators` does RMSE stop improving?\n",
        "\n",
        "- Answer: "
      ]
    },
    {
      "cell_type": "markdown",
      "metadata": {
        "id": "CYhRv3kEvWjK"
      },
      "source": [
        "**Question 4**\n",
        "\n",
        "Let's select the best `max_depth`:\n",
        "\n",
        "- Try different values of `max_depth`: [10, 15, 20, 25].\n",
        "- For each of these values, try different values of n_estimators from 10 till 200 (with step 10).\n",
        "- Fix the random seed: `random_state=1`."
      ]
    },
    {
      "cell_type": "code",
      "execution_count": 31,
      "metadata": {
        "id": "fO9TackKvKcS"
      },
      "outputs": [
        {
          "name": "stdout",
          "output_type": "stream",
          "text": [
            "Best Score of RF with depth 10 : 0.06195132350068131\n",
            "Best Score of RF with depth 15 : 0.05434108644129116\n",
            "Best Score of RF with depth 20 : 0.053774284285861805\n",
            "Best Score of RF with depth 25 : 0.053479103888565756\n"
          ]
        }
      ],
      "source": [
        "#@ TRAINING THE MODEL WITH DEPTH:\n",
        "for depth in [10, 15, 20, 25]:\n",
        "    temp = []\n",
        "    for n_est in range(10, 210, 10):\n",
        "        rf_regressor = RandomForestRegressor(n_estimators=n_est, max_depth=depth, random_state=1, n_jobs=-1)\n",
        "        rf_regressor.fit(train_x, train_y)\n",
        "\n",
        "        val_pred = rf_regressor.predict(val_x)\n",
        "        result = mean_squared_error(val_y, val_pred)\n",
        "        temp.append(result)\n",
        "    print(f'Best Score of RF with depth {depth} : {min(temp)}')"
      ]
    },
    {
      "cell_type": "markdown",
      "metadata": {
        "id": "eCRCaKlSwp7D"
      },
      "source": [
        "- What's the best `max_depth`:\n",
        "\n",
        "- Answer:"
      ]
    },
    {
      "cell_type": "markdown",
      "metadata": {
        "id": "BDLbx3N5xAoY"
      },
      "source": [
        "**Question 5**\n",
        "\n",
        "We can extract feature importance information from tree-based models.\n",
        "\n",
        "At each step of the decision tree learning algorith, it finds the best split. When doint it, we can calculate \"gain\" - the reduction in impurity before and after the split. This gain is quite useful in understanding what are the imporatant features for tree-based models.\n",
        "\n",
        "In Scikit-Learn, tree-based models contain this information in the `feature_importances_` field.\n",
        "\n",
        "For this homework question, we'll find the most important feature:\n",
        "\n",
        "Train the model with these parametes:\n",
        "- `n_estimators=10`,\n",
        "- `max_depth=20`,\n",
        "- `random_state=1`,\n",
        "- `n_jobs=-1` (optional)\n",
        "\n",
        "Get the feature importance information from this model"
      ]
    },
    {
      "cell_type": "code",
      "execution_count": 44,
      "metadata": {
        "id": "UICqST2Qwhbj"
      },
      "outputs": [
        {
          "name": "stdout",
          "output_type": "stream",
          "text": [
            "The most important feature is median_income\n"
          ]
        }
      ],
      "source": [
        "#@ TRAINING THE RANDOM FOREST MODEL:\n",
        "dtree_regr = RandomForestRegressor(n_estimators=20, max_depth=20, random_state=1, n_jobs=-1)\n",
        "#columns = ['total_rooms', 'median_income', 'total_bedrooms', 'longitude']\n",
        "#for col in columns:\n",
        "#idx = dictVectorizer.feature_names_.index(col)\n",
        "#dtree_regr.fit(train_x[:,idx], train_y)\n",
        "dtree_regr.fit(train_x, train_y)\n",
        "\n",
        "max_val = max(list(dtree_regr.feature_importances_))\n",
        "max_index = list(dtree_regr.feature_importances_).index(max_val)\n",
        "\n",
        "print(f'The most important feature is {dictVectorizer.feature_names_[max_index]}')"
      ]
    },
    {
      "cell_type": "markdown",
      "metadata": {
        "id": "kSCqlx9jye1s"
      },
      "source": [
        "- What's the most important feature?\n",
        "\n",
        "- Answer:"
      ]
    },
    {
      "cell_type": "markdown",
      "metadata": {
        "id": "K5KEdiTMzPaI"
      },
      "source": [
        "**Question 6**\n",
        "\n",
        "Now let's train an XGBoost model! For this question, we'll tune the eta parameter:\n",
        "\n",
        "- Install XGBoost.\n",
        "- Create DMatrix for train and validation\n",
        "- Create a watchlist\n",
        "- Train a model with these parameters for 100 rounds:\n",
        "\n",
        "```\n",
        "xgb_params = {  \n",
        "    'eta': 0.3,  \n",
        "    'max_depth': 6,  \n",
        "    'min_child_weight': 1,  \n",
        "\n",
        "    'objective': 'reg:squarederror',\n",
        "    'nthread': 8,\n",
        "\n",
        "    'seed': 1,\n",
        "    'verbosity': 1,\n",
        "}\n",
        "```\n",
        "\n"
      ]
    },
    {
      "cell_type": "code",
      "execution_count": 45,
      "metadata": {
        "id": "TUP0uoL5yZTc"
      },
      "outputs": [],
      "source": [
        "#@ CREATING THE DMARTIX:\n",
        "features = dictVectorizer.feature_names_\n",
        "\n",
        "regex = re.compile(r\"<\", re.IGNORECASE)\n",
        "features = [regex.sub(\"_\", col) if any(x in str(col) for x in set(('[', ']', '<'))) else col for col in features]\n",
        "\n",
        "dtrain = xgb.DMatrix(train_x, label=train_y, feature_names=features)\n",
        "dval = xgb.DMatrix(val_x, label=val_y, feature_names=features)"
      ]
    },
    {
      "cell_type": "code",
      "execution_count": 51,
      "metadata": {
        "id": "lRRzLznP-Z-Q"
      },
      "outputs": [
        {
          "data": {
            "text/plain": [
              "0.18691321413928091"
            ]
          },
          "execution_count": 51,
          "metadata": {},
          "output_type": "execute_result"
        }
      ],
      "source": [
        "xgb_params = {\n",
        "    'eta': 0.3, \n",
        "    'max_depth': 6,\n",
        "    'min_child_weight': 1,\n",
        "    \n",
        "    'objective': 'reg:squarederror',\n",
        "    'nthread': 8,\n",
        "    \n",
        "    'seed': 1,\n",
        "    'verbosity': 1,\n",
        "}\n",
        "\n",
        "model = xgb.train(xgb_params, dtrain)#, num_boost_round=200)\n",
        "val_pred = model.predict(dval)\n",
        "mean_squared_error(val_y, val_pred)"
      ]
    },
    {
      "cell_type": "markdown",
      "metadata": {
        "id": "3RmcQ1BQ64X-"
      },
      "source": [
        "- Now, change eta from 0.3 to 0.1"
      ]
    },
    {
      "cell_type": "code",
      "execution_count": 52,
      "metadata": {},
      "outputs": [
        {
          "data": {
            "text/plain": [
              "16.521065515691173"
            ]
          },
          "execution_count": 52,
          "metadata": {},
          "output_type": "execute_result"
        }
      ],
      "source": [
        "xgb_params = {\n",
        "    'eta': 0.1, \n",
        "    'max_depth': 6,\n",
        "    'min_child_weight': 1,\n",
        "    \n",
        "    'objective': 'reg:squarederror',\n",
        "    'nthread': 8,\n",
        "    \n",
        "    'seed': 1,\n",
        "    'verbosity': 1,\n",
        "}\n",
        "\n",
        "model = xgb.train(xgb_params, dtrain)#, num_boost_round=200)\n",
        "val_pred = model.predict(dval)\n",
        "mean_squared_error(val_y, val_pred)"
      ]
    },
    {
      "cell_type": "markdown",
      "metadata": {
        "id": "Yl6Xn6Zb76iH"
      },
      "source": [
        "- Which eta leads to the best RMSE score on the validation dataset?\n",
        "\n",
        "- Answer:"
      ]
    }
  ],
  "metadata": {
    "colab": {
      "provenance": []
    },
    "kernelspec": {
      "display_name": "Python 3.9.7 ('learn-or')",
      "language": "python",
      "name": "python3"
    },
    "language_info": {
      "codemirror_mode": {
        "name": "ipython",
        "version": 3
      },
      "file_extension": ".py",
      "mimetype": "text/x-python",
      "name": "python",
      "nbconvert_exporter": "python",
      "pygments_lexer": "ipython3",
      "version": "3.9.7"
    },
    "vscode": {
      "interpreter": {
        "hash": "dbe8dfcb2887713b0fa277c0018294c4767e2d20d7335ccd6f97d711dde03224"
      }
    }
  },
  "nbformat": 4,
  "nbformat_minor": 0
}
