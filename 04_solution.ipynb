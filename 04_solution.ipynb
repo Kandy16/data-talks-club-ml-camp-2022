{
 "cells": [
  {
   "cell_type": "code",
   "execution_count": 1,
   "id": "681ff6a5",
   "metadata": {},
   "outputs": [],
   "source": [
    "import numpy as np\n",
    "import pandas as pd\n",
    "\n",
    "import matplotlib.pyplot as plt\n",
    "import seaborn as sns\n",
    "\n",
    "from sklearn.linear_model import LogisticRegression\n",
    "\n",
    "%matplotlib inline\n"
   ]
  },
  {
   "cell_type": "code",
   "execution_count": 2,
   "id": "f05e57bd",
   "metadata": {},
   "outputs": [
    {
     "name": "stderr",
     "output_type": "stream",
     "text": [
      "  % Total    % Received % Xferd  Average Speed   Time    Time     Time  Current\n",
      "                                 Dload  Upload   Total   Spent    Left  Speed\n",
      "\n",
      "  0     0    0     0    0     0      0      0 --:--:-- --:--:-- --:--:--     0\n",
      "100 73250  100 73250    0     0   239k      0 --:--:-- --:--:-- --:--:--  240k\n"
     ]
    }
   ],
   "source": [
    "!cURL https://raw.githubusercontent.com/alexeygrigorev/datasets/master/AER_credit_card_data.csv > AER_credit_card_data.csv"
   ]
  },
  {
   "cell_type": "code",
   "execution_count": 59,
   "id": "526f67bc",
   "metadata": {},
   "outputs": [
    {
     "data": {
      "text/html": [
       "<div>\n",
       "<style scoped>\n",
       "    .dataframe tbody tr th:only-of-type {\n",
       "        vertical-align: middle;\n",
       "    }\n",
       "\n",
       "    .dataframe tbody tr th {\n",
       "        vertical-align: top;\n",
       "    }\n",
       "\n",
       "    .dataframe thead th {\n",
       "        text-align: right;\n",
       "    }\n",
       "</style>\n",
       "<table border=\"1\" class=\"dataframe\">\n",
       "  <thead>\n",
       "    <tr style=\"text-align: right;\">\n",
       "      <th></th>\n",
       "      <th>card</th>\n",
       "      <th>reports</th>\n",
       "      <th>age</th>\n",
       "      <th>income</th>\n",
       "      <th>share</th>\n",
       "      <th>expenditure</th>\n",
       "      <th>owner</th>\n",
       "      <th>selfemp</th>\n",
       "      <th>dependents</th>\n",
       "      <th>months</th>\n",
       "      <th>majorcards</th>\n",
       "      <th>active</th>\n",
       "    </tr>\n",
       "  </thead>\n",
       "  <tbody>\n",
       "    <tr>\n",
       "      <th>0</th>\n",
       "      <td>yes</td>\n",
       "      <td>0</td>\n",
       "      <td>37.66667</td>\n",
       "      <td>4.5200</td>\n",
       "      <td>0.033270</td>\n",
       "      <td>124.983300</td>\n",
       "      <td>yes</td>\n",
       "      <td>no</td>\n",
       "      <td>3</td>\n",
       "      <td>54</td>\n",
       "      <td>1</td>\n",
       "      <td>12</td>\n",
       "    </tr>\n",
       "    <tr>\n",
       "      <th>1</th>\n",
       "      <td>yes</td>\n",
       "      <td>0</td>\n",
       "      <td>33.25000</td>\n",
       "      <td>2.4200</td>\n",
       "      <td>0.005217</td>\n",
       "      <td>9.854167</td>\n",
       "      <td>no</td>\n",
       "      <td>no</td>\n",
       "      <td>3</td>\n",
       "      <td>34</td>\n",
       "      <td>1</td>\n",
       "      <td>13</td>\n",
       "    </tr>\n",
       "    <tr>\n",
       "      <th>2</th>\n",
       "      <td>yes</td>\n",
       "      <td>0</td>\n",
       "      <td>33.66667</td>\n",
       "      <td>4.5000</td>\n",
       "      <td>0.004156</td>\n",
       "      <td>15.000000</td>\n",
       "      <td>yes</td>\n",
       "      <td>no</td>\n",
       "      <td>4</td>\n",
       "      <td>58</td>\n",
       "      <td>1</td>\n",
       "      <td>5</td>\n",
       "    </tr>\n",
       "    <tr>\n",
       "      <th>3</th>\n",
       "      <td>yes</td>\n",
       "      <td>0</td>\n",
       "      <td>30.50000</td>\n",
       "      <td>2.5400</td>\n",
       "      <td>0.065214</td>\n",
       "      <td>137.869200</td>\n",
       "      <td>no</td>\n",
       "      <td>no</td>\n",
       "      <td>0</td>\n",
       "      <td>25</td>\n",
       "      <td>1</td>\n",
       "      <td>7</td>\n",
       "    </tr>\n",
       "    <tr>\n",
       "      <th>4</th>\n",
       "      <td>yes</td>\n",
       "      <td>0</td>\n",
       "      <td>32.16667</td>\n",
       "      <td>9.7867</td>\n",
       "      <td>0.067051</td>\n",
       "      <td>546.503300</td>\n",
       "      <td>yes</td>\n",
       "      <td>no</td>\n",
       "      <td>2</td>\n",
       "      <td>64</td>\n",
       "      <td>1</td>\n",
       "      <td>5</td>\n",
       "    </tr>\n",
       "  </tbody>\n",
       "</table>\n",
       "</div>"
      ],
      "text/plain": [
       "  card  reports       age  income     share  expenditure owner selfemp  \\\n",
       "0  yes        0  37.66667  4.5200  0.033270   124.983300   yes      no   \n",
       "1  yes        0  33.25000  2.4200  0.005217     9.854167    no      no   \n",
       "2  yes        0  33.66667  4.5000  0.004156    15.000000   yes      no   \n",
       "3  yes        0  30.50000  2.5400  0.065214   137.869200    no      no   \n",
       "4  yes        0  32.16667  9.7867  0.067051   546.503300   yes      no   \n",
       "\n",
       "   dependents  months  majorcards  active  \n",
       "0           3      54           1      12  \n",
       "1           3      34           1      13  \n",
       "2           4      58           1       5  \n",
       "3           0      25           1       7  \n",
       "4           2      64           1       5  "
      ]
     },
     "execution_count": 59,
     "metadata": {},
     "output_type": "execute_result"
    }
   ],
   "source": [
    "data = pd.read_csv('AER_credit_card_data.csv', header=0)\n",
    "data.head(5)"
   ]
  },
  {
   "cell_type": "code",
   "execution_count": 50,
   "id": "a5a6ecc2",
   "metadata": {},
   "outputs": [
    {
     "name": "stdout",
     "output_type": "stream",
     "text": [
      "(1319, 12)\n"
     ]
    },
    {
     "data": {
      "text/html": [
       "<div>\n",
       "<style scoped>\n",
       "    .dataframe tbody tr th:only-of-type {\n",
       "        vertical-align: middle;\n",
       "    }\n",
       "\n",
       "    .dataframe tbody tr th {\n",
       "        vertical-align: top;\n",
       "    }\n",
       "\n",
       "    .dataframe thead th {\n",
       "        text-align: right;\n",
       "    }\n",
       "</style>\n",
       "<table border=\"1\" class=\"dataframe\">\n",
       "  <thead>\n",
       "    <tr style=\"text-align: right;\">\n",
       "      <th></th>\n",
       "      <th>reports</th>\n",
       "      <th>age</th>\n",
       "      <th>income</th>\n",
       "      <th>share</th>\n",
       "      <th>expenditure</th>\n",
       "      <th>dependents</th>\n",
       "      <th>months</th>\n",
       "      <th>majorcards</th>\n",
       "      <th>active</th>\n",
       "    </tr>\n",
       "  </thead>\n",
       "  <tbody>\n",
       "    <tr>\n",
       "      <th>count</th>\n",
       "      <td>1319.000000</td>\n",
       "      <td>1319.000000</td>\n",
       "      <td>1319.000000</td>\n",
       "      <td>1319.000000</td>\n",
       "      <td>1319.000000</td>\n",
       "      <td>1319.000000</td>\n",
       "      <td>1319.000000</td>\n",
       "      <td>1319.000000</td>\n",
       "      <td>1319.000000</td>\n",
       "    </tr>\n",
       "    <tr>\n",
       "      <th>mean</th>\n",
       "      <td>0.456406</td>\n",
       "      <td>33.213103</td>\n",
       "      <td>3.365376</td>\n",
       "      <td>0.068732</td>\n",
       "      <td>185.057071</td>\n",
       "      <td>0.993935</td>\n",
       "      <td>55.267627</td>\n",
       "      <td>0.817286</td>\n",
       "      <td>6.996967</td>\n",
       "    </tr>\n",
       "    <tr>\n",
       "      <th>std</th>\n",
       "      <td>1.345267</td>\n",
       "      <td>10.142783</td>\n",
       "      <td>1.693902</td>\n",
       "      <td>0.094656</td>\n",
       "      <td>272.218917</td>\n",
       "      <td>1.247745</td>\n",
       "      <td>66.271746</td>\n",
       "      <td>0.386579</td>\n",
       "      <td>6.305812</td>\n",
       "    </tr>\n",
       "    <tr>\n",
       "      <th>min</th>\n",
       "      <td>0.000000</td>\n",
       "      <td>0.166667</td>\n",
       "      <td>0.210000</td>\n",
       "      <td>0.000109</td>\n",
       "      <td>0.000000</td>\n",
       "      <td>0.000000</td>\n",
       "      <td>0.000000</td>\n",
       "      <td>0.000000</td>\n",
       "      <td>0.000000</td>\n",
       "    </tr>\n",
       "    <tr>\n",
       "      <th>0%</th>\n",
       "      <td>0.000000</td>\n",
       "      <td>0.166667</td>\n",
       "      <td>0.210000</td>\n",
       "      <td>0.000109</td>\n",
       "      <td>0.000000</td>\n",
       "      <td>0.000000</td>\n",
       "      <td>0.000000</td>\n",
       "      <td>0.000000</td>\n",
       "      <td>0.000000</td>\n",
       "    </tr>\n",
       "    <tr>\n",
       "      <th>10%</th>\n",
       "      <td>0.000000</td>\n",
       "      <td>22.666670</td>\n",
       "      <td>1.800000</td>\n",
       "      <td>0.000426</td>\n",
       "      <td>0.000000</td>\n",
       "      <td>0.000000</td>\n",
       "      <td>6.000000</td>\n",
       "      <td>0.000000</td>\n",
       "      <td>0.000000</td>\n",
       "    </tr>\n",
       "    <tr>\n",
       "      <th>20%</th>\n",
       "      <td>0.000000</td>\n",
       "      <td>24.750000</td>\n",
       "      <td>2.100000</td>\n",
       "      <td>0.000667</td>\n",
       "      <td>0.000000</td>\n",
       "      <td>0.000000</td>\n",
       "      <td>12.000000</td>\n",
       "      <td>1.000000</td>\n",
       "      <td>1.000000</td>\n",
       "    </tr>\n",
       "    <tr>\n",
       "      <th>30%</th>\n",
       "      <td>0.000000</td>\n",
       "      <td>26.500000</td>\n",
       "      <td>2.400000</td>\n",
       "      <td>0.007853</td>\n",
       "      <td>19.787332</td>\n",
       "      <td>0.000000</td>\n",
       "      <td>14.400000</td>\n",
       "      <td>1.000000</td>\n",
       "      <td>3.000000</td>\n",
       "    </tr>\n",
       "    <tr>\n",
       "      <th>40%</th>\n",
       "      <td>0.000000</td>\n",
       "      <td>28.500000</td>\n",
       "      <td>2.600000</td>\n",
       "      <td>0.023962</td>\n",
       "      <td>59.156834</td>\n",
       "      <td>0.000000</td>\n",
       "      <td>24.000000</td>\n",
       "      <td>1.000000</td>\n",
       "      <td>4.000000</td>\n",
       "    </tr>\n",
       "    <tr>\n",
       "      <th>50%</th>\n",
       "      <td>0.000000</td>\n",
       "      <td>31.250000</td>\n",
       "      <td>2.900000</td>\n",
       "      <td>0.038827</td>\n",
       "      <td>101.298300</td>\n",
       "      <td>1.000000</td>\n",
       "      <td>30.000000</td>\n",
       "      <td>1.000000</td>\n",
       "      <td>6.000000</td>\n",
       "    </tr>\n",
       "    <tr>\n",
       "      <th>60%</th>\n",
       "      <td>0.000000</td>\n",
       "      <td>34.166670</td>\n",
       "      <td>3.200000</td>\n",
       "      <td>0.057514</td>\n",
       "      <td>145.714520</td>\n",
       "      <td>1.000000</td>\n",
       "      <td>42.000000</td>\n",
       "      <td>1.000000</td>\n",
       "      <td>7.000000</td>\n",
       "    </tr>\n",
       "    <tr>\n",
       "      <th>70%</th>\n",
       "      <td>0.000000</td>\n",
       "      <td>37.383334</td>\n",
       "      <td>3.662000</td>\n",
       "      <td>0.078895</td>\n",
       "      <td>203.273340</td>\n",
       "      <td>1.000000</td>\n",
       "      <td>60.000000</td>\n",
       "      <td>1.000000</td>\n",
       "      <td>9.000000</td>\n",
       "    </tr>\n",
       "    <tr>\n",
       "      <th>80%</th>\n",
       "      <td>0.000000</td>\n",
       "      <td>40.866666</td>\n",
       "      <td>4.300000</td>\n",
       "      <td>0.111532</td>\n",
       "      <td>308.520000</td>\n",
       "      <td>2.000000</td>\n",
       "      <td>90.000000</td>\n",
       "      <td>1.000000</td>\n",
       "      <td>12.000000</td>\n",
       "    </tr>\n",
       "    <tr>\n",
       "      <th>90%</th>\n",
       "      <td>1.000000</td>\n",
       "      <td>46.916670</td>\n",
       "      <td>5.500000</td>\n",
       "      <td>0.175756</td>\n",
       "      <td>469.457340</td>\n",
       "      <td>3.000000</td>\n",
       "      <td>143.200000</td>\n",
       "      <td>1.000000</td>\n",
       "      <td>16.000000</td>\n",
       "    </tr>\n",
       "    <tr>\n",
       "      <th>100%</th>\n",
       "      <td>14.000000</td>\n",
       "      <td>83.500000</td>\n",
       "      <td>13.500000</td>\n",
       "      <td>0.906320</td>\n",
       "      <td>3099.505000</td>\n",
       "      <td>6.000000</td>\n",
       "      <td>540.000000</td>\n",
       "      <td>1.000000</td>\n",
       "      <td>46.000000</td>\n",
       "    </tr>\n",
       "    <tr>\n",
       "      <th>max</th>\n",
       "      <td>14.000000</td>\n",
       "      <td>83.500000</td>\n",
       "      <td>13.500000</td>\n",
       "      <td>0.906320</td>\n",
       "      <td>3099.505000</td>\n",
       "      <td>6.000000</td>\n",
       "      <td>540.000000</td>\n",
       "      <td>1.000000</td>\n",
       "      <td>46.000000</td>\n",
       "    </tr>\n",
       "  </tbody>\n",
       "</table>\n",
       "</div>"
      ],
      "text/plain": [
       "           reports          age       income        share  expenditure  \\\n",
       "count  1319.000000  1319.000000  1319.000000  1319.000000  1319.000000   \n",
       "mean      0.456406    33.213103     3.365376     0.068732   185.057071   \n",
       "std       1.345267    10.142783     1.693902     0.094656   272.218917   \n",
       "min       0.000000     0.166667     0.210000     0.000109     0.000000   \n",
       "0%        0.000000     0.166667     0.210000     0.000109     0.000000   \n",
       "10%       0.000000    22.666670     1.800000     0.000426     0.000000   \n",
       "20%       0.000000    24.750000     2.100000     0.000667     0.000000   \n",
       "30%       0.000000    26.500000     2.400000     0.007853    19.787332   \n",
       "40%       0.000000    28.500000     2.600000     0.023962    59.156834   \n",
       "50%       0.000000    31.250000     2.900000     0.038827   101.298300   \n",
       "60%       0.000000    34.166670     3.200000     0.057514   145.714520   \n",
       "70%       0.000000    37.383334     3.662000     0.078895   203.273340   \n",
       "80%       0.000000    40.866666     4.300000     0.111532   308.520000   \n",
       "90%       1.000000    46.916670     5.500000     0.175756   469.457340   \n",
       "100%     14.000000    83.500000    13.500000     0.906320  3099.505000   \n",
       "max      14.000000    83.500000    13.500000     0.906320  3099.505000   \n",
       "\n",
       "        dependents       months   majorcards       active  \n",
       "count  1319.000000  1319.000000  1319.000000  1319.000000  \n",
       "mean      0.993935    55.267627     0.817286     6.996967  \n",
       "std       1.247745    66.271746     0.386579     6.305812  \n",
       "min       0.000000     0.000000     0.000000     0.000000  \n",
       "0%        0.000000     0.000000     0.000000     0.000000  \n",
       "10%       0.000000     6.000000     0.000000     0.000000  \n",
       "20%       0.000000    12.000000     1.000000     1.000000  \n",
       "30%       0.000000    14.400000     1.000000     3.000000  \n",
       "40%       0.000000    24.000000     1.000000     4.000000  \n",
       "50%       1.000000    30.000000     1.000000     6.000000  \n",
       "60%       1.000000    42.000000     1.000000     7.000000  \n",
       "70%       1.000000    60.000000     1.000000     9.000000  \n",
       "80%       2.000000    90.000000     1.000000    12.000000  \n",
       "90%       3.000000   143.200000     1.000000    16.000000  \n",
       "100%      6.000000   540.000000     1.000000    46.000000  \n",
       "max       6.000000   540.000000     1.000000    46.000000  "
      ]
     },
     "execution_count": 50,
     "metadata": {},
     "output_type": "execute_result"
    }
   ],
   "source": [
    "print(data.shape)\n",
    "data.describe(np.linspace(0,1,11))"
   ]
  },
  {
   "cell_type": "markdown",
   "id": "ef3096c3",
   "metadata": {},
   "source": [
    "# Exploratory data analysis + Data Preparation"
   ]
  },
  {
   "cell_type": "code",
   "execution_count": 51,
   "id": "a59e089b",
   "metadata": {},
   "outputs": [],
   "source": [
    "from IPython.display import display"
   ]
  },
  {
   "cell_type": "code",
   "execution_count": 52,
   "id": "d0bb7d68",
   "metadata": {},
   "outputs": [
    {
     "name": "stdout",
     "output_type": "stream",
     "text": [
      "-------card------\n"
     ]
    },
    {
     "data": {
      "text/plain": [
       "'Null values - 0'"
      ]
     },
     "metadata": {},
     "output_type": "display_data"
    },
    {
     "data": {
      "text/plain": [
       "'Unique count - 2'"
      ]
     },
     "metadata": {},
     "output_type": "display_data"
    },
    {
     "name": "stdout",
     "output_type": "stream",
     "text": [
      "-------reports------\n"
     ]
    },
    {
     "data": {
      "text/plain": [
       "'Null values - 0'"
      ]
     },
     "metadata": {},
     "output_type": "display_data"
    },
    {
     "data": {
      "text/plain": [
       "'Unique count - 13'"
      ]
     },
     "metadata": {},
     "output_type": "display_data"
    },
    {
     "name": "stdout",
     "output_type": "stream",
     "text": [
      "-------age------\n"
     ]
    },
    {
     "data": {
      "text/plain": [
       "'Null values - 0'"
      ]
     },
     "metadata": {},
     "output_type": "display_data"
    },
    {
     "data": {
      "text/plain": [
       "'Unique count - 418'"
      ]
     },
     "metadata": {},
     "output_type": "display_data"
    },
    {
     "name": "stdout",
     "output_type": "stream",
     "text": [
      "-------income------\n"
     ]
    },
    {
     "data": {
      "text/plain": [
       "'Null values - 0'"
      ]
     },
     "metadata": {},
     "output_type": "display_data"
    },
    {
     "data": {
      "text/plain": [
       "'Unique count - 431'"
      ]
     },
     "metadata": {},
     "output_type": "display_data"
    },
    {
     "name": "stdout",
     "output_type": "stream",
     "text": [
      "-------share------\n"
     ]
    },
    {
     "data": {
      "text/plain": [
       "'Null values - 0'"
      ]
     },
     "metadata": {},
     "output_type": "display_data"
    },
    {
     "data": {
      "text/plain": [
       "'Unique count - 1162'"
      ]
     },
     "metadata": {},
     "output_type": "display_data"
    },
    {
     "name": "stdout",
     "output_type": "stream",
     "text": [
      "-------expenditure------\n"
     ]
    },
    {
     "data": {
      "text/plain": [
       "'Null values - 0'"
      ]
     },
     "metadata": {},
     "output_type": "display_data"
    },
    {
     "data": {
      "text/plain": [
       "'Unique count - 981'"
      ]
     },
     "metadata": {},
     "output_type": "display_data"
    },
    {
     "name": "stdout",
     "output_type": "stream",
     "text": [
      "-------owner------\n"
     ]
    },
    {
     "data": {
      "text/plain": [
       "'Null values - 0'"
      ]
     },
     "metadata": {},
     "output_type": "display_data"
    },
    {
     "data": {
      "text/plain": [
       "'Unique count - 2'"
      ]
     },
     "metadata": {},
     "output_type": "display_data"
    },
    {
     "name": "stdout",
     "output_type": "stream",
     "text": [
      "-------selfemp------\n"
     ]
    },
    {
     "data": {
      "text/plain": [
       "'Null values - 0'"
      ]
     },
     "metadata": {},
     "output_type": "display_data"
    },
    {
     "data": {
      "text/plain": [
       "'Unique count - 2'"
      ]
     },
     "metadata": {},
     "output_type": "display_data"
    },
    {
     "name": "stdout",
     "output_type": "stream",
     "text": [
      "-------dependents------\n"
     ]
    },
    {
     "data": {
      "text/plain": [
       "'Null values - 0'"
      ]
     },
     "metadata": {},
     "output_type": "display_data"
    },
    {
     "data": {
      "text/plain": [
       "'Unique count - 7'"
      ]
     },
     "metadata": {},
     "output_type": "display_data"
    },
    {
     "name": "stdout",
     "output_type": "stream",
     "text": [
      "-------months------\n"
     ]
    },
    {
     "data": {
      "text/plain": [
       "'Null values - 0'"
      ]
     },
     "metadata": {},
     "output_type": "display_data"
    },
    {
     "data": {
      "text/plain": [
       "'Unique count - 193'"
      ]
     },
     "metadata": {},
     "output_type": "display_data"
    },
    {
     "name": "stdout",
     "output_type": "stream",
     "text": [
      "-------majorcards------\n"
     ]
    },
    {
     "data": {
      "text/plain": [
       "'Null values - 0'"
      ]
     },
     "metadata": {},
     "output_type": "display_data"
    },
    {
     "data": {
      "text/plain": [
       "'Unique count - 2'"
      ]
     },
     "metadata": {},
     "output_type": "display_data"
    },
    {
     "name": "stdout",
     "output_type": "stream",
     "text": [
      "-------active------\n"
     ]
    },
    {
     "data": {
      "text/plain": [
       "'Null values - 0'"
      ]
     },
     "metadata": {},
     "output_type": "display_data"
    },
    {
     "data": {
      "text/plain": [
       "'Unique count - 35'"
      ]
     },
     "metadata": {},
     "output_type": "display_data"
    }
   ],
   "source": [
    "for col in data.columns:\n",
    "    print(f'-------{col}------')\n",
    "    display(f'Null values - {data[col].isna().sum()}')\n",
    "    display(f'Unique count - {data[col].nunique()}')"
   ]
  },
  {
   "cell_type": "code",
   "execution_count": 53,
   "id": "b2b8c793",
   "metadata": {},
   "outputs": [
    {
     "data": {
      "text/plain": [
       "card  owner  selfemp\n",
       "yes   no     no         508\n",
       "      yes    no         452\n",
       "no    no     no         186\n",
       "      yes    no          82\n",
       "yes   yes    yes         39\n",
       "      no     yes         24\n",
       "no    no     yes         20\n",
       "      yes    yes          8\n",
       "dtype: int64"
      ]
     },
     "execution_count": 53,
     "metadata": {},
     "output_type": "execute_result"
    }
   ],
   "source": [
    "# no null values. fewer categorical columns\n",
    "data[['card', 'owner', 'selfemp']].value_counts()"
   ]
  },
  {
   "cell_type": "code",
   "execution_count": 62,
   "id": "0ea120dc",
   "metadata": {},
   "outputs": [],
   "source": [
    "data['card'] = data.card.replace({'yes':1,'no':0}).astype(np.int32)\n",
    "# data['owner'] = data.owner.replace({'yes':1,'no':0}).astype(np.int32)\n",
    "# data['selfemp'] = data.selfemp.replace({'yes':1,'no':0}).astype(np.int32)\n",
    "\n",
    "# data[['card', 'owner', 'selfemp']].value_counts()"
   ]
  },
  {
   "cell_type": "code",
   "execution_count": 63,
   "id": "3eaaf939",
   "metadata": {},
   "outputs": [
    {
     "data": {
      "text/plain": [
       "card\n",
       "1       1023\n",
       "0        296\n",
       "dtype: int64"
      ]
     },
     "execution_count": 63,
     "metadata": {},
     "output_type": "execute_result"
    }
   ],
   "source": [
    "data[['card']].value_counts()\n",
    "# highly imbalanced"
   ]
  },
  {
   "cell_type": "code",
   "execution_count": 56,
   "id": "e1a86772",
   "metadata": {},
   "outputs": [],
   "source": [
    "from sklearn.model_selection import train_test_split"
   ]
  },
  {
   "cell_type": "code",
   "execution_count": 64,
   "id": "df5b6b55",
   "metadata": {},
   "outputs": [
    {
     "data": {
      "text/html": [
       "<div>\n",
       "<style scoped>\n",
       "    .dataframe tbody tr th:only-of-type {\n",
       "        vertical-align: middle;\n",
       "    }\n",
       "\n",
       "    .dataframe tbody tr th {\n",
       "        vertical-align: top;\n",
       "    }\n",
       "\n",
       "    .dataframe thead th {\n",
       "        text-align: right;\n",
       "    }\n",
       "</style>\n",
       "<table border=\"1\" class=\"dataframe\">\n",
       "  <thead>\n",
       "    <tr style=\"text-align: right;\">\n",
       "      <th></th>\n",
       "      <th>card</th>\n",
       "      <th>reports</th>\n",
       "      <th>age</th>\n",
       "      <th>income</th>\n",
       "      <th>share</th>\n",
       "      <th>expenditure</th>\n",
       "      <th>owner</th>\n",
       "      <th>selfemp</th>\n",
       "      <th>dependents</th>\n",
       "      <th>months</th>\n",
       "      <th>majorcards</th>\n",
       "      <th>active</th>\n",
       "    </tr>\n",
       "  </thead>\n",
       "  <tbody>\n",
       "    <tr>\n",
       "      <th>769</th>\n",
       "      <td>1</td>\n",
       "      <td>0</td>\n",
       "      <td>40.33333</td>\n",
       "      <td>8.200</td>\n",
       "      <td>0.028200</td>\n",
       "      <td>192.45080</td>\n",
       "      <td>yes</td>\n",
       "      <td>no</td>\n",
       "      <td>3</td>\n",
       "      <td>172</td>\n",
       "      <td>1</td>\n",
       "      <td>15</td>\n",
       "    </tr>\n",
       "    <tr>\n",
       "      <th>1065</th>\n",
       "      <td>1</td>\n",
       "      <td>0</td>\n",
       "      <td>27.58333</td>\n",
       "      <td>4.000</td>\n",
       "      <td>0.014950</td>\n",
       "      <td>49.25000</td>\n",
       "      <td>yes</td>\n",
       "      <td>yes</td>\n",
       "      <td>3</td>\n",
       "      <td>40</td>\n",
       "      <td>1</td>\n",
       "      <td>13</td>\n",
       "    </tr>\n",
       "    <tr>\n",
       "      <th>334</th>\n",
       "      <td>1</td>\n",
       "      <td>0</td>\n",
       "      <td>34.50000</td>\n",
       "      <td>6.200</td>\n",
       "      <td>0.184038</td>\n",
       "      <td>950.86410</td>\n",
       "      <td>yes</td>\n",
       "      <td>no</td>\n",
       "      <td>0</td>\n",
       "      <td>60</td>\n",
       "      <td>1</td>\n",
       "      <td>11</td>\n",
       "    </tr>\n",
       "    <tr>\n",
       "      <th>332</th>\n",
       "      <td>1</td>\n",
       "      <td>0</td>\n",
       "      <td>34.00000</td>\n",
       "      <td>3.700</td>\n",
       "      <td>0.189333</td>\n",
       "      <td>583.77830</td>\n",
       "      <td>yes</td>\n",
       "      <td>yes</td>\n",
       "      <td>2</td>\n",
       "      <td>5</td>\n",
       "      <td>1</td>\n",
       "      <td>2</td>\n",
       "    </tr>\n",
       "    <tr>\n",
       "      <th>1292</th>\n",
       "      <td>0</td>\n",
       "      <td>0</td>\n",
       "      <td>36.00000</td>\n",
       "      <td>4.500</td>\n",
       "      <td>0.000267</td>\n",
       "      <td>0.00000</td>\n",
       "      <td>yes</td>\n",
       "      <td>no</td>\n",
       "      <td>2</td>\n",
       "      <td>228</td>\n",
       "      <td>1</td>\n",
       "      <td>0</td>\n",
       "    </tr>\n",
       "    <tr>\n",
       "      <th>...</th>\n",
       "      <td>...</td>\n",
       "      <td>...</td>\n",
       "      <td>...</td>\n",
       "      <td>...</td>\n",
       "      <td>...</td>\n",
       "      <td>...</td>\n",
       "      <td>...</td>\n",
       "      <td>...</td>\n",
       "      <td>...</td>\n",
       "      <td>...</td>\n",
       "      <td>...</td>\n",
       "      <td>...</td>\n",
       "    </tr>\n",
       "    <tr>\n",
       "      <th>407</th>\n",
       "      <td>1</td>\n",
       "      <td>1</td>\n",
       "      <td>29.16667</td>\n",
       "      <td>2.200</td>\n",
       "      <td>0.038205</td>\n",
       "      <td>69.79333</td>\n",
       "      <td>no</td>\n",
       "      <td>no</td>\n",
       "      <td>0</td>\n",
       "      <td>49</td>\n",
       "      <td>1</td>\n",
       "      <td>7</td>\n",
       "    </tr>\n",
       "    <tr>\n",
       "      <th>154</th>\n",
       "      <td>1</td>\n",
       "      <td>0</td>\n",
       "      <td>24.91667</td>\n",
       "      <td>2.400</td>\n",
       "      <td>0.230630</td>\n",
       "      <td>461.26000</td>\n",
       "      <td>no</td>\n",
       "      <td>no</td>\n",
       "      <td>1</td>\n",
       "      <td>164</td>\n",
       "      <td>0</td>\n",
       "      <td>1</td>\n",
       "    </tr>\n",
       "    <tr>\n",
       "      <th>303</th>\n",
       "      <td>1</td>\n",
       "      <td>0</td>\n",
       "      <td>29.08333</td>\n",
       "      <td>4.580</td>\n",
       "      <td>0.012869</td>\n",
       "      <td>48.61500</td>\n",
       "      <td>no</td>\n",
       "      <td>no</td>\n",
       "      <td>0</td>\n",
       "      <td>50</td>\n",
       "      <td>1</td>\n",
       "      <td>7</td>\n",
       "    </tr>\n",
       "    <tr>\n",
       "      <th>395</th>\n",
       "      <td>1</td>\n",
       "      <td>0</td>\n",
       "      <td>27.25000</td>\n",
       "      <td>3.150</td>\n",
       "      <td>0.064940</td>\n",
       "      <td>170.46670</td>\n",
       "      <td>yes</td>\n",
       "      <td>no</td>\n",
       "      <td>2</td>\n",
       "      <td>24</td>\n",
       "      <td>1</td>\n",
       "      <td>9</td>\n",
       "    </tr>\n",
       "    <tr>\n",
       "      <th>1247</th>\n",
       "      <td>0</td>\n",
       "      <td>1</td>\n",
       "      <td>35.16667</td>\n",
       "      <td>4.288</td>\n",
       "      <td>0.000280</td>\n",
       "      <td>0.00000</td>\n",
       "      <td>yes</td>\n",
       "      <td>no</td>\n",
       "      <td>3</td>\n",
       "      <td>24</td>\n",
       "      <td>0</td>\n",
       "      <td>13</td>\n",
       "    </tr>\n",
       "  </tbody>\n",
       "</table>\n",
       "<p>1055 rows × 12 columns</p>\n",
       "</div>"
      ],
      "text/plain": [
       "      card  reports       age  income     share  expenditure owner selfemp  \\\n",
       "769      1        0  40.33333   8.200  0.028200    192.45080   yes      no   \n",
       "1065     1        0  27.58333   4.000  0.014950     49.25000   yes     yes   \n",
       "334      1        0  34.50000   6.200  0.184038    950.86410   yes      no   \n",
       "332      1        0  34.00000   3.700  0.189333    583.77830   yes     yes   \n",
       "1292     0        0  36.00000   4.500  0.000267      0.00000   yes      no   \n",
       "...    ...      ...       ...     ...       ...          ...   ...     ...   \n",
       "407      1        1  29.16667   2.200  0.038205     69.79333    no      no   \n",
       "154      1        0  24.91667   2.400  0.230630    461.26000    no      no   \n",
       "303      1        0  29.08333   4.580  0.012869     48.61500    no      no   \n",
       "395      1        0  27.25000   3.150  0.064940    170.46670   yes      no   \n",
       "1247     0        1  35.16667   4.288  0.000280      0.00000   yes      no   \n",
       "\n",
       "      dependents  months  majorcards  active  \n",
       "769            3     172           1      15  \n",
       "1065           3      40           1      13  \n",
       "334            0      60           1      11  \n",
       "332            2       5           1       2  \n",
       "1292           2     228           1       0  \n",
       "...          ...     ...         ...     ...  \n",
       "407            0      49           1       7  \n",
       "154            1     164           0       1  \n",
       "303            0      50           1       7  \n",
       "395            2      24           1       9  \n",
       "1247           3      24           0      13  \n",
       "\n",
       "[1055 rows x 12 columns]"
      ]
     },
     "execution_count": 64,
     "metadata": {},
     "output_type": "execute_result"
    }
   ],
   "source": [
    "df_full_train, df_test = train_test_split(data, test_size=0.2)\n",
    "df_full_train"
   ]
  },
  {
   "cell_type": "code",
   "execution_count": 65,
   "id": "3a6f4795",
   "metadata": {},
   "outputs": [
    {
     "data": {
      "text/plain": [
       "(1319, 12)"
      ]
     },
     "metadata": {},
     "output_type": "display_data"
    },
    {
     "data": {
      "text/plain": [
       "(1055, 12)"
      ]
     },
     "metadata": {},
     "output_type": "display_data"
    },
    {
     "data": {
      "text/plain": [
       "(791, 12)"
      ]
     },
     "metadata": {},
     "output_type": "display_data"
    },
    {
     "data": {
      "text/plain": [
       "(264, 12)"
      ]
     },
     "metadata": {},
     "output_type": "display_data"
    },
    {
     "data": {
      "text/plain": [
       "(264, 12)"
      ]
     },
     "metadata": {},
     "output_type": "display_data"
    }
   ],
   "source": [
    "df_full_train, df_test = train_test_split(data, test_size=0.2, random_state=1)\n",
    "df_train, df_val = train_test_split(df_full_train, test_size=0.25,  random_state=1)\n",
    "display(data.shape)\n",
    "display(df_full_train.shape)\n",
    "display(df_train.shape)\n",
    "display(df_val.shape)\n",
    "display(df_test.shape)"
   ]
  },
  {
   "cell_type": "code",
   "execution_count": 66,
   "id": "1c4e8444",
   "metadata": {},
   "outputs": [
    {
     "data": {
      "text/html": [
       "<div>\n",
       "<style scoped>\n",
       "    .dataframe tbody tr th:only-of-type {\n",
       "        vertical-align: middle;\n",
       "    }\n",
       "\n",
       "    .dataframe tbody tr th {\n",
       "        vertical-align: top;\n",
       "    }\n",
       "\n",
       "    .dataframe thead th {\n",
       "        text-align: right;\n",
       "    }\n",
       "</style>\n",
       "<table border=\"1\" class=\"dataframe\">\n",
       "  <thead>\n",
       "    <tr style=\"text-align: right;\">\n",
       "      <th></th>\n",
       "      <th>reports</th>\n",
       "      <th>age</th>\n",
       "      <th>income</th>\n",
       "      <th>share</th>\n",
       "      <th>expenditure</th>\n",
       "      <th>owner</th>\n",
       "      <th>selfemp</th>\n",
       "      <th>dependents</th>\n",
       "      <th>months</th>\n",
       "      <th>majorcards</th>\n",
       "      <th>active</th>\n",
       "    </tr>\n",
       "  </thead>\n",
       "  <tbody>\n",
       "    <tr>\n",
       "      <th>0</th>\n",
       "      <td>3</td>\n",
       "      <td>40.50000</td>\n",
       "      <td>4.0128</td>\n",
       "      <td>0.000299</td>\n",
       "      <td>0.00000</td>\n",
       "      <td>no</td>\n",
       "      <td>no</td>\n",
       "      <td>1</td>\n",
       "      <td>12</td>\n",
       "      <td>1</td>\n",
       "      <td>17</td>\n",
       "    </tr>\n",
       "    <tr>\n",
       "      <th>1</th>\n",
       "      <td>1</td>\n",
       "      <td>32.33333</td>\n",
       "      <td>6.0000</td>\n",
       "      <td>0.000200</td>\n",
       "      <td>0.00000</td>\n",
       "      <td>yes</td>\n",
       "      <td>no</td>\n",
       "      <td>4</td>\n",
       "      <td>18</td>\n",
       "      <td>1</td>\n",
       "      <td>4</td>\n",
       "    </tr>\n",
       "    <tr>\n",
       "      <th>2</th>\n",
       "      <td>1</td>\n",
       "      <td>29.16667</td>\n",
       "      <td>2.2000</td>\n",
       "      <td>0.038205</td>\n",
       "      <td>69.79333</td>\n",
       "      <td>no</td>\n",
       "      <td>no</td>\n",
       "      <td>0</td>\n",
       "      <td>49</td>\n",
       "      <td>1</td>\n",
       "      <td>7</td>\n",
       "    </tr>\n",
       "    <tr>\n",
       "      <th>3</th>\n",
       "      <td>1</td>\n",
       "      <td>54.66667</td>\n",
       "      <td>7.2900</td>\n",
       "      <td>0.106536</td>\n",
       "      <td>647.20670</td>\n",
       "      <td>yes</td>\n",
       "      <td>no</td>\n",
       "      <td>2</td>\n",
       "      <td>78</td>\n",
       "      <td>1</td>\n",
       "      <td>9</td>\n",
       "    </tr>\n",
       "    <tr>\n",
       "      <th>4</th>\n",
       "      <td>0</td>\n",
       "      <td>25.00000</td>\n",
       "      <td>3.3984</td>\n",
       "      <td>0.000353</td>\n",
       "      <td>0.00000</td>\n",
       "      <td>yes</td>\n",
       "      <td>no</td>\n",
       "      <td>2</td>\n",
       "      <td>29</td>\n",
       "      <td>0</td>\n",
       "      <td>4</td>\n",
       "    </tr>\n",
       "  </tbody>\n",
       "</table>\n",
       "</div>"
      ],
      "text/plain": [
       "   reports       age  income     share  expenditure owner selfemp  dependents  \\\n",
       "0        3  40.50000  4.0128  0.000299      0.00000    no      no           1   \n",
       "1        1  32.33333  6.0000  0.000200      0.00000   yes      no           4   \n",
       "2        1  29.16667  2.2000  0.038205     69.79333    no      no           0   \n",
       "3        1  54.66667  7.2900  0.106536    647.20670   yes      no           2   \n",
       "4        0  25.00000  3.3984  0.000353      0.00000   yes      no           2   \n",
       "\n",
       "   months  majorcards  active  \n",
       "0      12           1      17  \n",
       "1      18           1       4  \n",
       "2      49           1       7  \n",
       "3      78           1       9  \n",
       "4      29           0       4  "
      ]
     },
     "metadata": {},
     "output_type": "display_data"
    },
    {
     "data": {
      "text/plain": [
       "0    0\n",
       "1    0\n",
       "2    1\n",
       "3    1\n",
       "4    1\n",
       "Name: card, dtype: int32"
      ]
     },
     "metadata": {},
     "output_type": "display_data"
    }
   ],
   "source": [
    "df_train_x = df_train.drop(columns=['card'], axis=1).reset_index(drop=True)\n",
    "df_train_y = df_train.card.reset_index(drop=True)\n",
    "\n",
    "df_val_x = df_val.drop(columns=['card'], axis=1).reset_index(drop=True)\n",
    "df_val_y = df_val.card.reset_index(drop=True)\n",
    "\n",
    "df_test_x = df_test.drop(columns=['card'], axis=1).reset_index(drop=True)\n",
    "df_test_y = df_test.card.reset_index(drop=True)\n",
    "\n",
    "display(df_train_x.head(5))\n",
    "display(df_train_y.head(5))\n"
   ]
  },
  {
   "cell_type": "markdown",
   "id": "d14b9ecc",
   "metadata": {},
   "source": [
    "# Question1"
   ]
  },
  {
   "cell_type": "code",
   "execution_count": 73,
   "id": "58dedce5",
   "metadata": {},
   "outputs": [],
   "source": [
    "from sklearn.metrics import roc_auc_score\n"
   ]
  },
  {
   "cell_type": "code",
   "execution_count": 72,
   "id": "fde715ee",
   "metadata": {},
   "outputs": [
    {
     "data": {
      "text/plain": [
       "'reports'"
      ]
     },
     "metadata": {},
     "output_type": "display_data"
    },
    {
     "data": {
      "text/plain": [
       "'ROC AUC score - 0.7166629860689376'"
      ]
     },
     "metadata": {},
     "output_type": "display_data"
    },
    {
     "data": {
      "text/plain": [
       "'age'"
      ]
     },
     "metadata": {},
     "output_type": "display_data"
    },
    {
     "data": {
      "text/plain": [
       "'ROC AUC score - 0.5240020979407055'"
      ]
     },
     "metadata": {},
     "output_type": "display_data"
    },
    {
     "data": {
      "text/plain": [
       "'income'"
      ]
     },
     "metadata": {},
     "output_type": "display_data"
    },
    {
     "data": {
      "text/plain": [
       "'ROC AUC score - 0.5908049467233478'"
      ]
     },
     "metadata": {},
     "output_type": "display_data"
    },
    {
     "data": {
      "text/plain": [
       "'expenditure'"
      ]
     },
     "metadata": {},
     "output_type": "display_data"
    },
    {
     "data": {
      "text/plain": [
       "'ROC AUC score - 0.991042345276873'"
      ]
     },
     "metadata": {},
     "output_type": "display_data"
    },
    {
     "data": {
      "text/plain": [
       "'dependents'"
      ]
     },
     "metadata": {},
     "output_type": "display_data"
    },
    {
     "data": {
      "text/plain": [
       "'ROC AUC score - 0.5327757227773791'"
      ]
     },
     "metadata": {},
     "output_type": "display_data"
    },
    {
     "data": {
      "text/plain": [
       "'months'"
      ]
     },
     "metadata": {},
     "output_type": "display_data"
    },
    {
     "data": {
      "text/plain": [
       "'ROC AUC score - 0.5294217780967629'"
      ]
     },
     "metadata": {},
     "output_type": "display_data"
    },
    {
     "data": {
      "text/plain": [
       "'active'"
      ]
     },
     "metadata": {},
     "output_type": "display_data"
    },
    {
     "data": {
      "text/plain": [
       "'ROC AUC score - 0.6043173411362006'"
      ]
     },
     "metadata": {},
     "output_type": "display_data"
    },
    {
     "data": {
      "text/plain": [
       "'share'"
      ]
     },
     "metadata": {},
     "output_type": "display_data"
    },
    {
     "data": {
      "text/plain": [
       "'ROC AUC score - 0.989183643423692'"
      ]
     },
     "metadata": {},
     "output_type": "display_data"
    }
   ],
   "source": [
    "for col in ['reports', 'age', 'income', 'expenditure', 'dependents', 'months', 'active', 'share']:\n",
    "    temp_x = df_train_x[col].values.reshape(-1, 1)\n",
    "    temp_y = df_train_y\n",
    "\n",
    "    temp_pred_y = temp_x\n",
    "    score = roc_auc_score(temp_y, temp_pred_y)\n",
    "    if score < 0.5:\n",
    "        score = roc_auc_score(temp_y, -temp_pred_y)    \n",
    "    display(f'{col}')\n",
    "    display(f'ROC AUC score - {score}')"
   ]
  },
  {
   "cell_type": "markdown",
   "id": "34231671",
   "metadata": {},
   "source": [
    "share  have higher AUC than the \n",
    "    dependents\n",
    "    active\n",
    "    reports"
   ]
  },
  {
   "cell_type": "markdown",
   "id": "cd824d91",
   "metadata": {},
   "source": [
    "# Question 2"
   ]
  },
  {
   "cell_type": "code",
   "execution_count": 76,
   "id": "739aed40",
   "metadata": {},
   "outputs": [],
   "source": [
    "from sklearn.linear_model import LogisticRegression\n",
    "from sklearn.feature_extraction import DictVectorizer\n",
    "\n",
    "model = LogisticRegression(solver='liblinear', C=1.0, max_iter=1000)\n",
    "\n",
    "cols = [\"reports\", \"age\", \"income\", \"share\", \"expenditure\", \"dependents\", \"months\", \"majorcards\", \"active\", \"owner\", \"selfemp\"]\n",
    "dict_vectorizer = DictVectorizer(sparse=False)\n"
   ]
  },
  {
   "cell_type": "code",
   "execution_count": 82,
   "id": "4cf2ea99",
   "metadata": {},
   "outputs": [
    {
     "data": {
      "text/plain": [
       "(791, 13)"
      ]
     },
     "metadata": {},
     "output_type": "display_data"
    },
    {
     "name": "stderr",
     "output_type": "stream",
     "text": [
      "c:\\Users\\KandhasamyRajasekara\\anaconda3\\envs\\learn-or\\lib\\site-packages\\sklearn\\utils\\deprecation.py:87: FutureWarning: Function get_feature_names is deprecated; get_feature_names is deprecated in 1.0 and will be removed in 1.2. Please use get_feature_names_out instead.\n",
      "  warnings.warn(msg, category=FutureWarning)\n"
     ]
    },
    {
     "data": {
      "text/plain": [
       "['active',\n",
       " 'age',\n",
       " 'dependents',\n",
       " 'expenditure',\n",
       " 'income',\n",
       " 'majorcards',\n",
       " 'months',\n",
       " 'owner=no',\n",
       " 'owner=yes',\n",
       " 'reports',\n",
       " 'selfemp=no',\n",
       " 'selfemp=yes',\n",
       " 'share']"
      ]
     },
     "metadata": {},
     "output_type": "display_data"
    },
    {
     "data": {
      "text/plain": [
       "array([[1.700000e+01, 4.050000e+01, 1.000000e+00, 0.000000e+00,\n",
       "        4.012800e+00, 1.000000e+00, 1.200000e+01, 1.000000e+00,\n",
       "        0.000000e+00, 3.000000e+00, 1.000000e+00, 0.000000e+00,\n",
       "        2.990431e-04],\n",
       "       [4.000000e+00, 3.233333e+01, 4.000000e+00, 0.000000e+00,\n",
       "        6.000000e+00, 1.000000e+00, 1.800000e+01, 0.000000e+00,\n",
       "        1.000000e+00, 1.000000e+00, 1.000000e+00, 0.000000e+00,\n",
       "        2.000000e-04],\n",
       "       [7.000000e+00, 2.916667e+01, 0.000000e+00, 6.979333e+01,\n",
       "        2.200000e+00, 1.000000e+00, 4.900000e+01, 1.000000e+00,\n",
       "        0.000000e+00, 1.000000e+00, 1.000000e+00, 0.000000e+00,\n",
       "        3.820546e-02],\n",
       "       [9.000000e+00, 5.466667e+01, 2.000000e+00, 6.472067e+02,\n",
       "        7.290000e+00, 1.000000e+00, 7.800000e+01, 0.000000e+00,\n",
       "        1.000000e+00, 1.000000e+00, 1.000000e+00, 0.000000e+00,\n",
       "        1.065361e-01],\n",
       "       [4.000000e+00, 2.500000e+01, 2.000000e+00, 0.000000e+00,\n",
       "        3.398400e+00, 0.000000e+00, 2.900000e+01, 0.000000e+00,\n",
       "        1.000000e+00, 0.000000e+00, 1.000000e+00, 0.000000e+00,\n",
       "        3.531073e-04]])"
      ]
     },
     "execution_count": 82,
     "metadata": {},
     "output_type": "execute_result"
    }
   ],
   "source": [
    "train_x = dict_vectorizer.fit_transform(df_train_x[cols].to_dict(orient='records'))\n",
    "display(train_x.shape)\n",
    "display(dict_vectorizer.get_feature_names())\n",
    "\n",
    "train_x[0:5]"
   ]
  },
  {
   "cell_type": "code",
   "execution_count": 84,
   "id": "42474fd9",
   "metadata": {},
   "outputs": [
    {
     "data": {
      "text/plain": [
       "0.974"
      ]
     },
     "execution_count": 84,
     "metadata": {},
     "output_type": "execute_result"
    }
   ],
   "source": [
    "model.fit(train_x, df_train_y)\n",
    "val_x = dict_vectorizer.fit_transform(df_val_x[cols].to_dict(orient='records'))\n",
    "val_pred_y = model.predict(val_x)\n",
    "roc_auc_score(df_val_y, val_pred_y).round(3)"
   ]
  },
  {
   "cell_type": "markdown",
   "id": "0362b043",
   "metadata": {},
   "source": [
    "The nearest given ROC AUC score is : 0.995"
   ]
  },
  {
   "cell_type": "markdown",
   "id": "4dc30556",
   "metadata": {},
   "source": [
    "# Question3\n"
   ]
  },
  {
   "cell_type": "code",
   "execution_count": 126,
   "id": "b9f559aa",
   "metadata": {},
   "outputs": [],
   "source": [
    "from sklearn.metrics import precision_recall_curve, precision_score, recall_score"
   ]
  },
  {
   "cell_type": "code",
   "execution_count": 129,
   "id": "01857e6f",
   "metadata": {},
   "outputs": [
    {
     "data": {
      "text/plain": [
       "<matplotlib.legend.Legend at 0x22e50863d60>"
      ]
     },
     "execution_count": 129,
     "metadata": {},
     "output_type": "execute_result"
    },
    {
     "data": {
      "image/png": "[encoded data removed]",
      "text/plain": [
       "<Figure size 640x480 with 1 Axes>"
      ]
     },
     "metadata": {},
     "output_type": "display_data"
    }
   ],
   "source": [
    "val_pred_y_prob = model.predict_proba(val_x)[:,1]\n",
    "\n",
    "precisions = []\n",
    "recalls = []\n",
    "\n",
    "for thres in np.linspace(0,1,101):\n",
    "    val_pred_y = val_pred_y_prob >= thres\n",
    "    #temp = precision_recall_curve(df_val_y, val_pred_y_prob)\n",
    "    precisions.append(precision_score(df_val_y, val_pred_y))\n",
    "    recalls.append(recall_score(df_val_y, val_pred_y))\n",
    "\n",
    "    # precision = \n",
    "# plt.plot(range(1, len(temp[0]) + 1), temp[0], label='precision')\n",
    "# plt.plot(range(1, len(temp[1]) + 1), temp[1], label='recall')\n",
    "# plt.plot(range(1, len(temp[2]) + 1), temp[2], label='threshold')\n",
    "\n",
    "plt.plot(np.linspace(0,1,101), precisions, label='precision')\n",
    "plt.plot(np.linspace(0,1,101), recalls, label='recall')\n",
    "\n",
    "plt.legend()"
   ]
  },
  {
   "cell_type": "markdown",
   "id": "2657cb58",
   "metadata": {},
   "source": [
    "At threshold 0.3 the precision and recall curves cross each other"
   ]
  },
  {
   "cell_type": "markdown",
   "id": "b69b5346",
   "metadata": {},
   "source": [
    "# Question 4\n"
   ]
  },
  {
   "cell_type": "code",
   "execution_count": 130,
   "id": "dc908fc4",
   "metadata": {},
   "outputs": [
    {
     "data": {
      "text/plain": [
       "<matplotlib.legend.Legend at 0x22e50828df0>"
      ]
     },
     "execution_count": 130,
     "metadata": {},
     "output_type": "execute_result"
    },
    {
     "data": {
      "image/png": "[encoded data removed]",
      "text/plain": [
       "<Figure size 640x480 with 1 Axes>"
      ]
     },
     "metadata": {},
     "output_type": "display_data"
    }
   ],
   "source": [
    "from sklearn.metrics import f1_score\n",
    "\n",
    "f1_scores = []\n",
    "for thres in np.linspace(0,1,101):\n",
    "    val_pred_y = val_pred_y_prob >= thres\n",
    "    #temp = precision_recall_curve(df_val_y, val_pred_y_prob)\n",
    "    f1_scores.append(f1_score(df_val_y, val_pred_y))\n",
    "\n",
    "plt.plot(np.linspace(0,1,101), f1_scores, label='f1_score')\n",
    "\n",
    "plt.legend()"
   ]
  },
  {
   "cell_type": "code",
   "execution_count": 132,
   "id": "62057c0a",
   "metadata": {},
   "outputs": [
    {
     "data": {
      "text/plain": [
       "0.35000000000000003"
      ]
     },
     "execution_count": 132,
     "metadata": {},
     "output_type": "execute_result"
    }
   ],
   "source": [
    "max_val = max(f1_scores)\n",
    "max_index = f1_scores.index(max_val)\n",
    "np.linspace(0,1,101)[max_index]\n"
   ]
  },
  {
   "cell_type": "markdown",
   "id": "0c75fddb",
   "metadata": {},
   "source": [
    "in the answer, threshold 0.4 seem to be yielding the maximum F1 score"
   ]
  },
  {
   "cell_type": "markdown",
   "id": "29e431ea",
   "metadata": {},
   "source": [
    "# Question 5"
   ]
  },
  {
   "cell_type": "code",
   "execution_count": 142,
   "id": "8be794eb",
   "metadata": {},
   "outputs": [],
   "source": [
    "from sklearn.model_selection import KFold\n",
    "kfold = KFold(n_splits=5, shuffle=True, random_state=1)\n",
    "\n",
    "model = LogisticRegression(solver='liblinear', C=1.0, max_iter=1000)\n"
   ]
  },
  {
   "cell_type": "code",
   "execution_count": 149,
   "id": "99492067",
   "metadata": {},
   "outputs": [
    {
     "name": "stdout",
     "output_type": "stream",
     "text": [
      "AUC scores - statistics\n",
      "Mean -  0.9964498276814243\n",
      "Std -  0.0027434713804377724\n"
     ]
    }
   ],
   "source": [
    "full_train_dict = df_full_train.to_dict(orient='records')\n",
    "full_train = dict_vectorizer.transform(full_train_dict)\n",
    "\n",
    "roc_auc_scores = []\n",
    "\n",
    "for train_indexes, val_indexes in  kfold.split(df_full_train):\n",
    "    df_fold_train = df_full_train.iloc[train_indexes, :]\n",
    "    \n",
    "    df_fold_train_x = df_fold_train.drop(columns=['card'], axis=1).reset_index(drop=True)\n",
    "    fold_train_y = df_fold_train.card.reset_index(drop=True)\n",
    "\n",
    "    fold_train_dict_x = df_fold_train_x.to_dict(orient='records')\n",
    "    fold_train_x = dict_vectorizer.transform(fold_train_dict_x)\n",
    "\n",
    "    \n",
    "    df_fold_val = df_full_train.iloc[val_indexes, :]\n",
    "\n",
    "    df_fold_val_x = df_fold_val.drop(columns=['card'], axis=1).reset_index(drop=True)\n",
    "    fold_val_y = df_fold_val.card.reset_index(drop=True)\n",
    "\n",
    "    fold_val_dict_x = df_fold_val_x.to_dict(orient='records')\n",
    "    fold_val_x = dict_vectorizer.transform(fold_val_dict_x)\n",
    "\n",
    "    model.fit(fold_train_x, fold_train_y)\n",
    "    fold_val_pred_y = model.predict_proba(fold_val_x)[:,1]\n",
    "\n",
    "    score = roc_auc_score(fold_val_y, fold_val_pred_y)\n",
    "    roc_auc_scores.append(score)\n",
    "\n",
    "print('AUC scores - statistics')\n",
    "print('Mean - ', np.mean(roc_auc_scores))\n",
    "print('Std - ', np.std(roc_auc_scores))"
   ]
  },
  {
   "cell_type": "markdown",
   "id": "8035d388",
   "metadata": {},
   "source": [
    "0.003 is the closest choice "
   ]
  },
  {
   "cell_type": "markdown",
   "id": "29e431ea",
   "metadata": {},
   "source": [
    "# Question 6"
   ]
  },
  {
   "cell_type": "code",
   "execution_count": 152,
   "id": "2ba8fe1d",
   "metadata": {},
   "outputs": [
    {
     "name": "stdout",
     "output_type": "stream",
     "text": [
      "for C value - 0.01, AUC Mean - 0.992, Std - 0.006 \n",
      "for C value - 0.1, AUC Mean - 0.995, Std - 0.004 \n",
      "for C value - 1, AUC Mean - 0.996, Std - 0.003 \n",
      "for C value - 10, AUC Mean - 0.996, Std - 0.003 \n"
     ]
    }
   ],
   "source": [
    "for c in [0.01, 0.1, 1, 10]:\n",
    "    roc_auc_scores = []\n",
    "\n",
    "    for train_indexes, val_indexes in  kfold.split(df_full_train):\n",
    "        df_fold_train = df_full_train.iloc[train_indexes, :]\n",
    "        \n",
    "        df_fold_train_x = df_fold_train.drop(columns=['card'], axis=1).reset_index(drop=True)\n",
    "        fold_train_y = df_fold_train.card.reset_index(drop=True)\n",
    "\n",
    "        fold_train_dict_x = df_fold_train_x.to_dict(orient='records')\n",
    "        fold_train_x = dict_vectorizer.transform(fold_train_dict_x)\n",
    "\n",
    "        \n",
    "        df_fold_val = df_full_train.iloc[val_indexes, :]\n",
    "\n",
    "        df_fold_val_x = df_fold_val.drop(columns=['card'], axis=1).reset_index(drop=True)\n",
    "        fold_val_y = df_fold_val.card.reset_index(drop=True)\n",
    "\n",
    "        fold_val_dict_x = df_fold_val_x.to_dict(orient='records')\n",
    "        fold_val_x = dict_vectorizer.transform(fold_val_dict_x)\n",
    "\n",
    "        model = LogisticRegression(solver='liblinear', C=c, max_iter=1000)\n",
    "        model.fit(fold_train_x, fold_train_y)\n",
    "        fold_val_pred_y = model.predict_proba(fold_val_x)[:,1]\n",
    "\n",
    "        score = roc_auc_score(fold_val_y, fold_val_pred_y)\n",
    "        roc_auc_scores.append(score)\n",
    "\n",
    "    print(f'for C value - {c}, AUC Mean - {np.mean(roc_auc_scores).round(3)}, Std - {np.std(roc_auc_scores).round(3)} ')\n"
   ]
  },
  {
   "cell_type": "markdown",
   "id": "ecaec6a5",
   "metadata": {},
   "source": [
    "for c value 1, we achieved AUC score"
   ]
  }
 ],
 "metadata": {
  "kernelspec": {
   "display_name": "Python 3.9.7 ('learn-or')",
   "language": "python",
   "name": "python3"
  },
  "language_info": {
   "codemirror_mode": {
    "name": "ipython",
    "version": 3
   },
   "file_extension": ".py",
   "mimetype": "text/x-python",
   "name": "python",
   "nbconvert_exporter": "python",
   "pygments_lexer": "ipython3",
   "version": "3.9.7"
  },
  "vscode": {
   "interpreter": {
    "hash": "dbe8dfcb2887713b0fa277c0018294c4767e2d20d7335ccd6f97d711dde03224"
   }
  }
 },
 "nbformat": 4,
 "nbformat_minor": 5
}
